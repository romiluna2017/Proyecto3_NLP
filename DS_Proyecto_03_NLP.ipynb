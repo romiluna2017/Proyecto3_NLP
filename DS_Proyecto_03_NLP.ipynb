{
 "cells": [
  {
   "cell_type": "markdown",
   "metadata": {
    "colab_type": "text",
    "id": "2GRQnxMzISE_"
   },
   "source": [
    "# Proyecto 03 - Procesamiento del Lenguaje Natural\n",
    "\n",
    "## Dataset: The Multilingual Amazon Reviews Corpus\n",
    "\n",
    "**Recuerda descargar el dataset de [aquí](https://github.com/kang205/SASRec). Es un archivo .zip que contiene tres documentos. Más información sobre el dataset [aquí](https://registry.opendata.aws/amazon-reviews-ml/). Es importante que tengas en cuenta la [licencia](https://docs.opendata.aws/amazon-reviews-ml/license.txt) de este dataset.**\n",
    "\n",
    "### Exploración de datos y Procesamiento del Lenguaje Natural\n",
    "\n",
    "Dedícale un buen tiempo a hacer un Análisis Exploratorio de Datos. Considera que hasta que no hayas aplicado las herramientas de Procesamiento del Lenguaje Natural vistas, será difícil completar este análisis. Elige preguntas que creas que puedas responder con este dataset. Por ejemplo, ¿qué palabras están asociadas a calificaciones positivas y qué palabras a calificaciones negativas?\n",
    "\n",
    "### Machine Learning\n",
    "\n",
    "Implementa un modelo que, dada la crítica de un producto, asigne la cantidad de estrellas correspondiente. **Para pensar**: ¿es un problema de Clasificación o de Regresión?\n",
    "\n",
    "1. Haz todas las transformaciones de datos que consideres necesarias. Justifica.\n",
    "1. Evalúa de forma apropiada sus resultados. Justifica la métrica elegida.\n",
    "1. Elige un modelo benchmark y compara tus resultados con este modelo.\n",
    "1. Optimiza los hiperparámetros de tu modelo.\n",
    "1. Intenta responder la pregunta: ¿Qué información está usando el modelo para predecir?\n",
    "\n",
    "**Recomendación:** si no te resulta conveniente trabajar en español con NLTK, te recomendamos que explores la librería [spaCy](https://spacy.io/).\n",
    "\n",
    "### Para pensar, investigar y, opcionalmente, implementar\n",
    "1. ¿Valdrá la pena convertir el problema de Machine Learning en un problema binario? Es decir, asignar únicamente las etiquetas Positiva y Negativa a cada crítica y hacer un modelo que, en lugar de predecir las estrellas, prediga esa etiqueta. Pensar en qué situación puede ser útil. ¿Esperas que el desempeño sea mejor o peor?\n",
    "1. ¿Hay algo que te gustaría investigar o probar?\n",
    "\n",
    "### **¡Tómate tiempo para investigar y leer mucho!**"
   ]
  },
  {
   "cell_type": "markdown",
   "metadata": {
    "colab": {},
    "colab_type": "code",
    "id": "x1GFwraSISFB"
   },
   "source": [
    "# 1.1.1  Exploración de datos y Procesamiento del Lenguaje Natural"
   ]
  },
  {
   "cell_type": "code",
   "execution_count": 1,
   "metadata": {
    "ExecuteTime": {
     "end_time": "2020-09-27T01:26:24.995622Z",
     "start_time": "2020-09-27T01:26:19.879123Z"
    }
   },
   "outputs": [
    {
     "name": "stderr",
     "output_type": "stream",
     "text": [
      "[nltk_data] Downloading package punkt to\n",
      "[nltk_data]     C:\\Users\\romil\\AppData\\Roaming\\nltk_data...\n",
      "[nltk_data]   Package punkt is already up-to-date!\n",
      "[nltk_data] Downloading package stopwords to\n",
      "[nltk_data]     C:\\Users\\romil\\AppData\\Roaming\\nltk_data...\n",
      "[nltk_data]   Package stopwords is already up-to-date!\n"
     ]
    },
    {
     "data": {
      "text/plain": [
       "True"
      ]
     },
     "execution_count": 1,
     "metadata": {},
     "output_type": "execute_result"
    }
   ],
   "source": [
    "import itertools\n",
    "\n",
    "import numpy as np\n",
    "import pandas as pd\n",
    "\n",
    "import matplotlib.pyplot as plt\n",
    "import seaborn as sns\n",
    "\n",
    "import nltk\n",
    "\n",
    "#Esto sirve para configurar NLTK. La primera vez puede tardar un poco\n",
    "nltk.download('punkt')\n",
    "nltk.download('stopwords')"
   ]
  },
  {
   "cell_type": "code",
   "execution_count": 3,
   "metadata": {
    "ExecuteTime": {
     "end_time": "2020-09-27T01:27:11.436512Z",
     "start_time": "2020-09-27T01:27:11.297154Z"
    }
   },
   "outputs": [
    {
     "data": {
      "text/html": [
       "<div>\n",
       "<style scoped>\n",
       "    .dataframe tbody tr th:only-of-type {\n",
       "        vertical-align: middle;\n",
       "    }\n",
       "\n",
       "    .dataframe tbody tr th {\n",
       "        vertical-align: top;\n",
       "    }\n",
       "\n",
       "    .dataframe thead th {\n",
       "        text-align: right;\n",
       "    }\n",
       "</style>\n",
       "<table border=\"1\" class=\"dataframe\">\n",
       "  <thead>\n",
       "    <tr style=\"text-align: right;\">\n",
       "      <th></th>\n",
       "      <th>review_id</th>\n",
       "      <th>product_id</th>\n",
       "      <th>reviewer_id</th>\n",
       "      <th>stars</th>\n",
       "      <th>review_body</th>\n",
       "      <th>review_title</th>\n",
       "      <th>language</th>\n",
       "      <th>product_category</th>\n",
       "    </tr>\n",
       "  </thead>\n",
       "  <tbody>\n",
       "    <tr>\n",
       "      <th>0</th>\n",
       "      <td>es_0417480</td>\n",
       "      <td>product_es_0873923</td>\n",
       "      <td>reviewer_es_0672978</td>\n",
       "      <td>1</td>\n",
       "      <td>Malisimo, muy grande demasiado aparatoso y mal...</td>\n",
       "      <td>Mala compra</td>\n",
       "      <td>es</td>\n",
       "      <td>wireless</td>\n",
       "    </tr>\n",
       "    <tr>\n",
       "      <th>1</th>\n",
       "      <td>es_0180432</td>\n",
       "      <td>product_es_0713146</td>\n",
       "      <td>reviewer_es_0100858</td>\n",
       "      <td>1</td>\n",
       "      <td>No he recibido el pedido no la devolución</td>\n",
       "      <td>No lo he recibido</td>\n",
       "      <td>es</td>\n",
       "      <td>apparel</td>\n",
       "    </tr>\n",
       "    <tr>\n",
       "      <th>2</th>\n",
       "      <td>es_0144850</td>\n",
       "      <td>product_es_0356874</td>\n",
       "      <td>reviewer_es_0486447</td>\n",
       "      <td>1</td>\n",
       "      <td>Tengo que buscar otro sistema, este no funcion...</td>\n",
       "      <td>Que no aprieta bien en el manillar</td>\n",
       "      <td>es</td>\n",
       "      <td>sports</td>\n",
       "    </tr>\n",
       "    <tr>\n",
       "      <th>3</th>\n",
       "      <td>es_0339629</td>\n",
       "      <td>product_es_0939832</td>\n",
       "      <td>reviewer_es_0894703</td>\n",
       "      <td>1</td>\n",
       "      <td>Utilicé las brocas de menor diámetro y se me d...</td>\n",
       "      <td>Brocas de mantequilla</td>\n",
       "      <td>es</td>\n",
       "      <td>home_improvement</td>\n",
       "    </tr>\n",
       "    <tr>\n",
       "      <th>4</th>\n",
       "      <td>es_0858362</td>\n",
       "      <td>product_es_0489066</td>\n",
       "      <td>reviewer_es_0887663</td>\n",
       "      <td>1</td>\n",
       "      <td>No me gusta su olor a viejo y aspecto malo</td>\n",
       "      <td>No me gusta</td>\n",
       "      <td>es</td>\n",
       "      <td>beauty</td>\n",
       "    </tr>\n",
       "  </tbody>\n",
       "</table>\n",
       "</div>"
      ],
      "text/plain": [
       "    review_id          product_id          reviewer_id  stars  \\\n",
       "0  es_0417480  product_es_0873923  reviewer_es_0672978      1   \n",
       "1  es_0180432  product_es_0713146  reviewer_es_0100858      1   \n",
       "2  es_0144850  product_es_0356874  reviewer_es_0486447      1   \n",
       "3  es_0339629  product_es_0939832  reviewer_es_0894703      1   \n",
       "4  es_0858362  product_es_0489066  reviewer_es_0887663      1   \n",
       "\n",
       "                                         review_body  \\\n",
       "0  Malisimo, muy grande demasiado aparatoso y mal...   \n",
       "1          No he recibido el pedido no la devolución   \n",
       "2  Tengo que buscar otro sistema, este no funcion...   \n",
       "3  Utilicé las brocas de menor diámetro y se me d...   \n",
       "4         No me gusta su olor a viejo y aspecto malo   \n",
       "\n",
       "                         review_title language  product_category  \n",
       "0                         Mala compra       es          wireless  \n",
       "1                   No lo he recibido       es           apparel  \n",
       "2  Que no aprieta bien en el manillar       es            sports  \n",
       "3               Brocas de mantequilla       es  home_improvement  \n",
       "4                         No me gusta       es            beauty  "
      ]
     },
     "execution_count": 3,
     "metadata": {},
     "output_type": "execute_result"
    }
   ],
   "source": [
    "dataset = pd.read_json('datos\\dataset_es_dev.json', lines=True)\n",
    "#dataset = COMPLETAR\n",
    "dataset.head()"
   ]
  },
  {
   "cell_type": "code",
   "execution_count": 5,
   "metadata": {
    "ExecuteTime": {
     "end_time": "2020-09-27T01:27:48.233047Z",
     "start_time": "2020-09-27T01:27:48.207045Z"
    }
   },
   "outputs": [
    {
     "name": "stdout",
     "output_type": "stream",
     "text": [
      "<class 'pandas.core.frame.DataFrame'>\n",
      "RangeIndex: 5000 entries, 0 to 4999\n",
      "Data columns (total 8 columns):\n",
      " #   Column            Non-Null Count  Dtype \n",
      "---  ------            --------------  ----- \n",
      " 0   review_id         5000 non-null   object\n",
      " 1   product_id        5000 non-null   object\n",
      " 2   reviewer_id       5000 non-null   object\n",
      " 3   stars             5000 non-null   int64 \n",
      " 4   review_body       5000 non-null   object\n",
      " 5   review_title      5000 non-null   object\n",
      " 6   language          5000 non-null   object\n",
      " 7   product_category  5000 non-null   object\n",
      "dtypes: int64(1), object(7)\n",
      "memory usage: 312.6+ KB\n"
     ]
    }
   ],
   "source": [
    "dataset.info()"
   ]
  },
  {
   "cell_type": "code",
   "execution_count": 7,
   "metadata": {
    "ExecuteTime": {
     "end_time": "2020-09-27T01:30:01.929839Z",
     "start_time": "2020-09-27T01:30:01.916826Z"
    }
   },
   "outputs": [
    {
     "data": {
      "text/plain": [
       "Index(['review_id', 'product_id', 'reviewer_id', 'stars', 'review_body',\n",
       "       'review_title', 'language', 'product_category'],\n",
       "      dtype='object')"
      ]
     },
     "execution_count": 7,
     "metadata": {},
     "output_type": "execute_result"
    }
   ],
   "source": [
    "dataset.columns"
   ]
  },
  {
   "cell_type": "code",
   "execution_count": 9,
   "metadata": {
    "ExecuteTime": {
     "end_time": "2020-09-27T01:42:15.145058Z",
     "start_time": "2020-09-27T01:42:14.985830Z"
    }
   },
   "outputs": [
    {
     "data": {
      "image/png": "[encoded data removed]",
      "text/plain": [
       "<Figure size 432x288 with 1 Axes>"
      ]
     },
     "metadata": {
      "needs_background": "light"
     },
     "output_type": "display_data"
    }
   ],
   "source": [
    "sns.countplot(dataset.stars )\n",
    "plt.show()"
   ]
  },
  {
   "cell_type": "code",
   "execution_count": 6,
   "metadata": {
    "ExecuteTime": {
     "end_time": "2020-09-27T01:29:15.746035Z",
     "start_time": "2020-09-27T01:29:15.689029Z"
    }
   },
   "outputs": [
    {
     "data": {
      "text/html": [
       "<div>\n",
       "<style scoped>\n",
       "    .dataframe tbody tr th:only-of-type {\n",
       "        vertical-align: middle;\n",
       "    }\n",
       "\n",
       "    .dataframe tbody tr th {\n",
       "        vertical-align: top;\n",
       "    }\n",
       "\n",
       "    .dataframe thead th {\n",
       "        text-align: right;\n",
       "    }\n",
       "</style>\n",
       "<table border=\"1\" class=\"dataframe\">\n",
       "  <thead>\n",
       "    <tr style=\"text-align: right;\">\n",
       "      <th></th>\n",
       "      <th>review_id</th>\n",
       "      <th>product_id</th>\n",
       "      <th>reviewer_id</th>\n",
       "      <th>stars</th>\n",
       "      <th>review_body</th>\n",
       "      <th>review_title</th>\n",
       "      <th>language</th>\n",
       "      <th>product_category</th>\n",
       "    </tr>\n",
       "  </thead>\n",
       "  <tbody>\n",
       "    <tr>\n",
       "      <th>0</th>\n",
       "      <td>es_0038754</td>\n",
       "      <td>product_es_0113523</td>\n",
       "      <td>reviewer_es_0580071</td>\n",
       "      <td>1</td>\n",
       "      <td>no me llego el articulo me lo mando por correo...</td>\n",
       "      <td>no me llego</td>\n",
       "      <td>es</td>\n",
       "      <td>wireless</td>\n",
       "    </tr>\n",
       "    <tr>\n",
       "      <th>1</th>\n",
       "      <td>es_0748979</td>\n",
       "      <td>product_es_0017036</td>\n",
       "      <td>reviewer_es_0819733</td>\n",
       "      <td>1</td>\n",
       "      <td>la mensajería horrible, no compro mas</td>\n",
       "      <td>amazon sigue sin cumplir en las entregas</td>\n",
       "      <td>es</td>\n",
       "      <td>home</td>\n",
       "    </tr>\n",
       "    <tr>\n",
       "      <th>2</th>\n",
       "      <td>es_0411746</td>\n",
       "      <td>product_es_0138642</td>\n",
       "      <td>reviewer_es_0508607</td>\n",
       "      <td>1</td>\n",
       "      <td>Estoy muy decepcionado con el vendedor ya que ...</td>\n",
       "      <td>ESTAFA EN EL ENVÍO</td>\n",
       "      <td>es</td>\n",
       "      <td>toy</td>\n",
       "    </tr>\n",
       "    <tr>\n",
       "      <th>3</th>\n",
       "      <td>es_0786686</td>\n",
       "      <td>product_es_0170887</td>\n",
       "      <td>reviewer_es_0491157</td>\n",
       "      <td>1</td>\n",
       "      <td>Mi valoración no es sobre el producto sino sob...</td>\n",
       "      <td>Estafa de Amazon</td>\n",
       "      <td>es</td>\n",
       "      <td>home</td>\n",
       "    </tr>\n",
       "    <tr>\n",
       "      <th>4</th>\n",
       "      <td>es_0429700</td>\n",
       "      <td>product_es_0710642</td>\n",
       "      <td>reviewer_es_0008745</td>\n",
       "      <td>1</td>\n",
       "      <td>Pues tenía interés en este libro y probé la ve...</td>\n",
       "      <td>No conseguí pasar de la portada en Kindle</td>\n",
       "      <td>es</td>\n",
       "      <td>digital_ebook_purchase</td>\n",
       "    </tr>\n",
       "  </tbody>\n",
       "</table>\n",
       "</div>"
      ],
      "text/plain": [
       "    review_id          product_id          reviewer_id  stars  \\\n",
       "0  es_0038754  product_es_0113523  reviewer_es_0580071      1   \n",
       "1  es_0748979  product_es_0017036  reviewer_es_0819733      1   \n",
       "2  es_0411746  product_es_0138642  reviewer_es_0508607      1   \n",
       "3  es_0786686  product_es_0170887  reviewer_es_0491157      1   \n",
       "4  es_0429700  product_es_0710642  reviewer_es_0008745      1   \n",
       "\n",
       "                                         review_body  \\\n",
       "0  no me llego el articulo me lo mando por correo...   \n",
       "1              la mensajería horrible, no compro mas   \n",
       "2  Estoy muy decepcionado con el vendedor ya que ...   \n",
       "3  Mi valoración no es sobre el producto sino sob...   \n",
       "4  Pues tenía interés en este libro y probé la ve...   \n",
       "\n",
       "                                review_title language        product_category  \n",
       "0                                no me llego       es                wireless  \n",
       "1   amazon sigue sin cumplir en las entregas       es                    home  \n",
       "2                         ESTAFA EN EL ENVÍO       es                     toy  \n",
       "3                           Estafa de Amazon       es                    home  \n",
       "4  No conseguí pasar de la portada en Kindle       es  digital_ebook_purchase  "
      ]
     },
     "execution_count": 6,
     "metadata": {},
     "output_type": "execute_result"
    }
   ],
   "source": [
    "dataset2 = pd.read_json('datos\\dataset_es_test.json', lines=True)\n",
    "#dataset = COMPLETAR\n",
    "dataset2.head()"
   ]
  },
  {
   "cell_type": "code",
   "execution_count": null,
   "metadata": {},
   "outputs": [],
   "source": []
  }
 ],
 "metadata": {
  "colab": {
   "collapsed_sections": [],
   "name": "DS_Proyecto_03_NLP.ipynb",
   "provenance": []
  },
  "kernelspec": {
   "display_name": "Python 3",
   "language": "python",
   "name": "python3"
  },
  "language_info": {
   "codemirror_mode": {
    "name": "ipython",
    "version": 3
   },
   "file_extension": ".py",
   "mimetype": "text/x-python",
   "name": "python",
   "nbconvert_exporter": "python",
   "pygments_lexer": "ipython3",
   "version": "3.7.6"
  },
  "toc": {
   "base_numbering": 1,
   "nav_menu": {},
   "number_sections": true,
   "sideBar": true,
   "skip_h1_title": false,
   "title_cell": "Table of Contents",
   "title_sidebar": "Contents",
   "toc_cell": false,
   "toc_position": {},
   "toc_section_display": true,
   "toc_window_display": true
  }
 },
 "nbformat": 4,
 "nbformat_minor": 1
}
