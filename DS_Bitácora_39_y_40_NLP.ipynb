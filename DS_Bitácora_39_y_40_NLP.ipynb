{
 "cells": [
  {
   "cell_type": "markdown",
   "metadata": {
    "colab_type": "text",
    "id": "pRjnQGsi59re"
   },
   "source": [
    "# NLP--PRUEBA DE MODICADO2\n",
    "\n",
    "A lo largo del notebook vamos a trabajar con el siguiente dataset:\n",
    "\n",
    "https://www.kaggle.com/rmisra/news-headlines-dataset-for-sarcasm-detection/\n",
    "\n",
    "En esa competencia de Kaggle también puedes encontrar Notebooks (*kernels*) sumamente interesantes.\n",
    "\n",
    "El objetivo es que se familiaricen con algunas herramientas típicas del Procesamiento del Lenguaje Natural (NLP por sus siglas en inglés).La biblioteca fundamental que vamos a usar es NLTK. Probablemente tengas que instalarla. Para ello, googlea cómo instalar esta librería con Conda (no olvides activar el ambiente).\n",
    "\n",
    "Ten en cuenta que la mayoría de las herramientas de NLP pueden ser consideradas como parte del preprocesamiento, llevar el texto a una forma que la computadora pueda entender. En general, esto corresponde a una forma tipo \"tabla\" al estilo de los DataFrames de Pandas. Es fácil olvidarse de ese objetivo y perderse en todos los pasos. Al principio es común marearse, pero no te preocupes que verás que no es difícil.\n",
    "\n",
    "\n",
    "## 1. Carga de datos\n",
    "\n",
    "Lo primero que tienes que hacer es fijarse en qué formato están los datos. ¿De qué se trata es formato?¿Cómo se abre? Si googleas, vas a ver que hay muchas formas de abrir archivos JSON con Python. Como venimos trabajando con Pandas, googlea \"Open JSON with Pandas\". Prueben esa función. Si les tira un error en el primer intento, googleen el error. Les aseguramos que la respuesta está muy a mano y es muy accesible, no tienen que hacer nada raro."
   ]
  },
  {
   "cell_type": "code",
   "execution_count": 40,
   "metadata": {
    "ExecuteTime": {
     "end_time": "2020-09-12T14:59:01.752927Z",
     "start_time": "2020-09-12T14:59:01.741926Z"
    },
    "colab": {},
    "colab_type": "code",
    "id": "QX3Lsvgb59rf"
   },
   "outputs": [
    {
     "name": "stderr",
     "output_type": "stream",
     "text": [
      "[nltk_data] Downloading package punkt to\n",
      "[nltk_data]     C:\\Users\\romil\\AppData\\Roaming\\nltk_data...\n",
      "[nltk_data]   Package punkt is already up-to-date!\n",
      "[nltk_data] Downloading package stopwords to\n",
      "[nltk_data]     C:\\Users\\romil\\AppData\\Roaming\\nltk_data...\n",
      "[nltk_data]   Package stopwords is already up-to-date!\n"
     ]
    },
    {
     "data": {
      "text/plain": [
       "True"
      ]
     },
     "execution_count": 40,
     "metadata": {},
     "output_type": "execute_result"
    }
   ],
   "source": [
    "import itertools\n",
    "\n",
    "import numpy as np\n",
    "import pandas as pd\n",
    "\n",
    "import matplotlib.pyplot as plt\n",
    "import seaborn as sns\n",
    "sns.set()\n",
    "\n",
    "import nltk\n",
    "\n",
    "#Esto sirve para configurar NLTK. La primera vez puede tardar un poco\n",
    "nltk.download('punkt')\n",
    "nltk.download('stopwords')"
   ]
  },
  {
   "cell_type": "code",
   "execution_count": 41,
   "metadata": {
    "ExecuteTime": {
     "end_time": "2020-09-12T14:59:01.896939Z",
     "start_time": "2020-09-12T14:59:01.754927Z"
    },
    "colab": {},
    "colab_type": "code",
    "id": "RJP2K-1759rk"
   },
   "outputs": [
    {
     "data": {
      "text/html": [
       "<div>\n",
       "<style scoped>\n",
       "    .dataframe tbody tr th:only-of-type {\n",
       "        vertical-align: middle;\n",
       "    }\n",
       "\n",
       "    .dataframe tbody tr th {\n",
       "        vertical-align: top;\n",
       "    }\n",
       "\n",
       "    .dataframe thead th {\n",
       "        text-align: right;\n",
       "    }\n",
       "</style>\n",
       "<table border=\"1\" class=\"dataframe\">\n",
       "  <thead>\n",
       "    <tr style=\"text-align: right;\">\n",
       "      <th></th>\n",
       "      <th>article_link</th>\n",
       "      <th>headline</th>\n",
       "      <th>is_sarcastic</th>\n",
       "    </tr>\n",
       "  </thead>\n",
       "  <tbody>\n",
       "    <tr>\n",
       "      <th>0</th>\n",
       "      <td>https://www.huffingtonpost.com/entry/versace-b...</td>\n",
       "      <td>former versace store clerk sues over secret 'b...</td>\n",
       "      <td>0</td>\n",
       "    </tr>\n",
       "    <tr>\n",
       "      <th>1</th>\n",
       "      <td>https://www.huffingtonpost.com/entry/roseanne-...</td>\n",
       "      <td>the 'roseanne' revival catches up to our thorn...</td>\n",
       "      <td>0</td>\n",
       "    </tr>\n",
       "    <tr>\n",
       "      <th>2</th>\n",
       "      <td>https://local.theonion.com/mom-starting-to-fea...</td>\n",
       "      <td>mom starting to fear son's web series closest ...</td>\n",
       "      <td>1</td>\n",
       "    </tr>\n",
       "    <tr>\n",
       "      <th>3</th>\n",
       "      <td>https://politics.theonion.com/boehner-just-wan...</td>\n",
       "      <td>boehner just wants wife to listen, not come up...</td>\n",
       "      <td>1</td>\n",
       "    </tr>\n",
       "    <tr>\n",
       "      <th>4</th>\n",
       "      <td>https://www.huffingtonpost.com/entry/jk-rowlin...</td>\n",
       "      <td>j.k. rowling wishes snape happy birthday in th...</td>\n",
       "      <td>0</td>\n",
       "    </tr>\n",
       "  </tbody>\n",
       "</table>\n",
       "</div>"
      ],
      "text/plain": [
       "                                        article_link  \\\n",
       "0  https://www.huffingtonpost.com/entry/versace-b...   \n",
       "1  https://www.huffingtonpost.com/entry/roseanne-...   \n",
       "2  https://local.theonion.com/mom-starting-to-fea...   \n",
       "3  https://politics.theonion.com/boehner-just-wan...   \n",
       "4  https://www.huffingtonpost.com/entry/jk-rowlin...   \n",
       "\n",
       "                                            headline  is_sarcastic  \n",
       "0  former versace store clerk sues over secret 'b...             0  \n",
       "1  the 'roseanne' revival catches up to our thorn...             0  \n",
       "2  mom starting to fear son's web series closest ...             1  \n",
       "3  boehner just wants wife to listen, not come up...             1  \n",
       "4  j.k. rowling wishes snape happy birthday in th...             0  "
      ]
     },
     "execution_count": 41,
     "metadata": {},
     "output_type": "execute_result"
    }
   ],
   "source": [
    "dataset = pd.read_json('Sarcasm_Headlines_Dataset.json', lines=True)\n",
    "#dataset = COMPLETAR\n",
    "dataset.head()"
   ]
  },
  {
   "cell_type": "markdown",
   "metadata": {
    "colab_type": "text",
    "id": "KwL35vot59ro"
   },
   "source": [
    "¿Qué forma tiene el dataset?¿Cuántas instancias?¿Cuáles son sus columnas?¿Cuántos titulares hay de cada tipo?¿Podemos hablar ya de *features*?"
   ]
  },
  {
   "cell_type": "code",
   "execution_count": 42,
   "metadata": {
    "ExecuteTime": {
     "end_time": "2020-09-12T14:59:01.912937Z",
     "start_time": "2020-09-12T14:59:01.898937Z"
    },
    "colab": {},
    "colab_type": "code",
    "id": "uU1v4T4l59ro"
   },
   "outputs": [
    {
     "data": {
      "text/plain": [
       "(26709, 3)"
      ]
     },
     "execution_count": 42,
     "metadata": {},
     "output_type": "execute_result"
    }
   ],
   "source": [
    "dataset.shape"
   ]
  },
  {
   "cell_type": "code",
   "execution_count": 43,
   "metadata": {
    "ExecuteTime": {
     "end_time": "2020-09-12T14:59:01.928939Z",
     "start_time": "2020-09-12T14:59:01.914939Z"
    }
   },
   "outputs": [
    {
     "data": {
      "text/plain": [
       "Index(['article_link', 'headline', 'is_sarcastic'], dtype='object')"
      ]
     },
     "execution_count": 43,
     "metadata": {},
     "output_type": "execute_result"
    }
   ],
   "source": [
    "dataset.columns "
   ]
  },
  {
   "cell_type": "code",
   "execution_count": 44,
   "metadata": {
    "ExecuteTime": {
     "end_time": "2020-09-12T14:59:01.943940Z",
     "start_time": "2020-09-12T14:59:01.930940Z"
    }
   },
   "outputs": [
    {
     "name": "stdout",
     "output_type": "stream",
     "text": [
      "<class 'pandas.core.frame.DataFrame'>\n",
      "RangeIndex: 26709 entries, 0 to 26708\n",
      "Data columns (total 3 columns):\n",
      " #   Column        Non-Null Count  Dtype \n",
      "---  ------        --------------  ----- \n",
      " 0   article_link  26709 non-null  object\n",
      " 1   headline      26709 non-null  object\n",
      " 2   is_sarcastic  26709 non-null  int64 \n",
      "dtypes: int64(1), object(2)\n",
      "memory usage: 626.1+ KB\n"
     ]
    }
   ],
   "source": [
    "dataset.info()"
   ]
  },
  {
   "cell_type": "code",
   "execution_count": 45,
   "metadata": {
    "ExecuteTime": {
     "end_time": "2020-09-12T14:59:02.101952Z",
     "start_time": "2020-09-12T14:59:01.945940Z"
    },
    "colab": {},
    "colab_type": "code",
    "id": "wZsqIb9e59rs"
   },
   "outputs": [
    {
     "data": {
      "image/png": "[encoded data removed]",
      "text/plain": [
       "<Figure size 432x288 with 1 Axes>"
      ]
     },
     "metadata": {},
     "output_type": "display_data"
    }
   ],
   "source": [
    "sns.countplot(dataset.is_sarcastic )\n",
    "plt.show()"
   ]
  },
  {
   "cell_type": "markdown",
   "metadata": {
    "colab_type": "text",
    "id": "rv-WG1Gl59rv"
   },
   "source": [
    "## 2. Breve exploración del dataset\n",
    "\n",
    "Elige una instancia del dataset al azar y selecciona el *headline*."
   ]
  },
  {
   "cell_type": "code",
   "execution_count": 46,
   "metadata": {
    "ExecuteTime": {
     "end_time": "2020-09-12T14:59:02.117953Z",
     "start_time": "2020-09-12T14:59:02.102952Z"
    },
    "colab": {},
    "colab_type": "code",
    "id": "TZg07vo559rv"
   },
   "outputs": [
    {
     "name": "stdout",
     "output_type": "stream",
     "text": [
      "14 barcelona holds huge protest in support of refugees\n"
     ]
    }
   ],
   "source": [
    "index_random = np.random.randint(5,30)\n",
    "titular = dataset.headline[index_random]#Un titulo al al azar\n",
    "print(index_random, titular)"
   ]
  },
  {
   "cell_type": "markdown",
   "metadata": {
    "colab_type": "text",
    "id": "Pub3IVR759rz"
   },
   "source": [
    "¿Te parece que es sarcástico?¿Qué características del texto te hace creer - o no - eso? Comprueba si es sarcástico o no imprimiendo en la celda de abajo el valor correspondiente del dataset. (Como la mayoría de los titulares están en inglés y encima refieren a política local, no te preocupes si es una tarea difícil)."
   ]
  },
  {
   "cell_type": "code",
   "execution_count": 47,
   "metadata": {
    "ExecuteTime": {
     "end_time": "2020-09-12T14:59:02.133953Z",
     "start_time": "2020-09-12T14:59:02.120953Z"
    },
    "colab": {},
    "colab_type": "code",
    "id": "GrM49_CP59rz"
   },
   "outputs": [
    {
     "name": "stdout",
     "output_type": "stream",
     "text": [
      "14 0\n"
     ]
    }
   ],
   "source": [
    "print(index_random, dataset.is_sarcastic[index_random]) \n",
    "#me dice si el articulo es sacartisco o no"
   ]
  },
  {
   "cell_type": "code",
   "execution_count": 48,
   "metadata": {
    "ExecuteTime": {
     "end_time": "2020-09-12T14:59:02.644991Z",
     "start_time": "2020-09-12T14:59:02.135955Z"
    }
   },
   "outputs": [
    {
     "data": {
      "image/png": "[encoded data removed]",
      "text/plain": [
       "<Figure size 720x360 with 2 Axes>"
      ]
     },
     "metadata": {},
     "output_type": "display_data"
    }
   ],
   "source": [
    "fig,(ax1,ax2)=plt.subplots(1,2,figsize=(10,5))\n",
    "text_len=dataset[dataset['is_sarcastic']==1]['headline'].str.len()\n",
    "ax1.hist(text_len,color='red')\n",
    "ax1.set_title('Sarcastic text')\n",
    "text_len=dataset[dataset['is_sarcastic']==0]['headline'].str.len()\n",
    "ax2.hist(text_len,color='green')\n",
    "ax2.set_title('Not Sarcastic text')\n",
    "fig.suptitle('Characters in texts')\n",
    "plt.show()"
   ]
  },
  {
   "cell_type": "markdown",
   "metadata": {
    "colab_type": "text",
    "id": "CrTDEiMx59r3"
   },
   "source": [
    "## 3. NLTK\n",
    "\n",
    "Si es difícil para algunos humanos detectar el sarcasmo, probablemente también lo sea para una computadora. De todas formas, se puede hacer el intento. Para ello, es necesario extraer características de cada texto que nos sirvan para ir apuntando al objetivo. En los videos de Acámica hay muchos ejemplo de herramientas para aplicar. Elegir un titular que les llame la atención y probar las siguientes herramientas:\n",
    "\n",
    "### Tokenización\n",
    "\n",
    "¿Qué es y para qué sirve?¿Cuáles de todas las formas de tokenización presentadas te parece más útil para este problema?\n",
    "\n",
    "1. `sent_tokenize`"
   ]
  },
  {
   "cell_type": "markdown",
   "metadata": {},
   "source": [
    "El significado de la tokenización es dividir un texto existente en trozos más pequeños. Por ejemplo, un párrafo se puede convertir en oraciones y luego en palabras. Primero comenzaremos con una cadena simple que nos gustaría dividir en oraciones."
   ]
  },
  {
   "cell_type": "code",
   "execution_count": 49,
   "metadata": {
    "ExecuteTime": {
     "end_time": "2020-09-12T14:59:02.660997Z",
     "start_time": "2020-09-12T14:59:02.646995Z"
    },
    "colab": {},
    "colab_type": "code",
    "id": "oaWeuX5-59r3"
   },
   "outputs": [
    {
     "data": {
      "text/plain": [
       "['barcelona holds huge protest in support of refugees']"
      ]
     },
     "execution_count": 49,
     "metadata": {},
     "output_type": "execute_result"
    }
   ],
   "source": [
    "#sent_tokenize devuelve el articulo\n",
    "titular_st = nltk.sent_tokenize(dataset.headline[index_random])\n",
    "titular_st "
   ]
  },
  {
   "cell_type": "markdown",
   "metadata": {
    "colab_type": "text",
    "id": "9iP1Sw7d59r6"
   },
   "source": [
    "2. `word_tokenize`"
   ]
  },
  {
   "cell_type": "code",
   "execution_count": 50,
   "metadata": {
    "ExecuteTime": {
     "end_time": "2020-09-12T14:59:02.676994Z",
     "start_time": "2020-09-12T14:59:02.662994Z"
    },
    "colab": {},
    "colab_type": "code",
    "id": "w9bSUIwz59r7"
   },
   "outputs": [
    {
     "data": {
      "text/plain": [
       "['barcelona', 'holds', 'huge', 'protest', 'in', 'support', 'of', 'refugees']"
      ]
     },
     "execution_count": 50,
     "metadata": {},
     "output_type": "execute_result"
    }
   ],
   "source": [
    "#word_tokenize devuelve las palabras de oracion separadas x coma\n",
    "titular_wt = nltk.word_tokenize(dataset.headline[index_random])\n",
    "titular_wt"
   ]
  },
  {
   "cell_type": "markdown",
   "metadata": {
    "colab_type": "text",
    "id": "oLF18_gK59r-"
   },
   "source": [
    "### Normalización\n",
    "\n",
    "¿Qué es y para qué sirve? Notar que varias formas de normalización ya vienen aplicadas en el dataset.\n",
    "\n",
    "1. Stopwords\n",
    "\n",
    "Importar los `stopwords` del inglés e imprimirlos."
   ]
  },
  {
   "cell_type": "code",
   "execution_count": 51,
   "metadata": {
    "ExecuteTime": {
     "end_time": "2020-09-12T14:59:02.692996Z",
     "start_time": "2020-09-12T14:59:02.679997Z"
    },
    "colab": {},
    "colab_type": "code",
    "id": "8jPW_Yke59r-"
   },
   "outputs": [
    {
     "data": {
      "text/plain": [
       "['i',\n",
       " 'me',\n",
       " 'my',\n",
       " 'myself',\n",
       " 'we',\n",
       " 'our',\n",
       " 'ours',\n",
       " 'ourselves',\n",
       " 'you',\n",
       " \"you're\",\n",
       " \"you've\",\n",
       " \"you'll\",\n",
       " \"you'd\",\n",
       " 'your',\n",
       " 'yours',\n",
       " 'yourself',\n",
       " 'yourselves',\n",
       " 'he',\n",
       " 'him',\n",
       " 'his',\n",
       " 'himself',\n",
       " 'she',\n",
       " \"she's\",\n",
       " 'her',\n",
       " 'hers',\n",
       " 'herself',\n",
       " 'it',\n",
       " \"it's\",\n",
       " 'its',\n",
       " 'itself',\n",
       " 'they',\n",
       " 'them',\n",
       " 'their',\n",
       " 'theirs',\n",
       " 'themselves',\n",
       " 'what',\n",
       " 'which',\n",
       " 'who',\n",
       " 'whom',\n",
       " 'this',\n",
       " 'that',\n",
       " \"that'll\",\n",
       " 'these',\n",
       " 'those',\n",
       " 'am',\n",
       " 'is',\n",
       " 'are',\n",
       " 'was',\n",
       " 'were',\n",
       " 'be',\n",
       " 'been',\n",
       " 'being',\n",
       " 'have',\n",
       " 'has',\n",
       " 'had',\n",
       " 'having',\n",
       " 'do',\n",
       " 'does',\n",
       " 'did',\n",
       " 'doing',\n",
       " 'a',\n",
       " 'an',\n",
       " 'the',\n",
       " 'and',\n",
       " 'but',\n",
       " 'if',\n",
       " 'or',\n",
       " 'because',\n",
       " 'as',\n",
       " 'until',\n",
       " 'while',\n",
       " 'of',\n",
       " 'at',\n",
       " 'by',\n",
       " 'for',\n",
       " 'with',\n",
       " 'about',\n",
       " 'against',\n",
       " 'between',\n",
       " 'into',\n",
       " 'through',\n",
       " 'during',\n",
       " 'before',\n",
       " 'after',\n",
       " 'above',\n",
       " 'below',\n",
       " 'to',\n",
       " 'from',\n",
       " 'up',\n",
       " 'down',\n",
       " 'in',\n",
       " 'out',\n",
       " 'on',\n",
       " 'off',\n",
       " 'over',\n",
       " 'under',\n",
       " 'again',\n",
       " 'further',\n",
       " 'then',\n",
       " 'once',\n",
       " 'here',\n",
       " 'there',\n",
       " 'when',\n",
       " 'where',\n",
       " 'why',\n",
       " 'how',\n",
       " 'all',\n",
       " 'any',\n",
       " 'both',\n",
       " 'each',\n",
       " 'few',\n",
       " 'more',\n",
       " 'most',\n",
       " 'other',\n",
       " 'some',\n",
       " 'such',\n",
       " 'no',\n",
       " 'nor',\n",
       " 'not',\n",
       " 'only',\n",
       " 'own',\n",
       " 'same',\n",
       " 'so',\n",
       " 'than',\n",
       " 'too',\n",
       " 'very',\n",
       " 's',\n",
       " 't',\n",
       " 'can',\n",
       " 'will',\n",
       " 'just',\n",
       " 'don',\n",
       " \"don't\",\n",
       " 'should',\n",
       " \"should've\",\n",
       " 'now',\n",
       " 'd',\n",
       " 'll',\n",
       " 'm',\n",
       " 'o',\n",
       " 're',\n",
       " 've',\n",
       " 'y',\n",
       " 'ain',\n",
       " 'aren',\n",
       " \"aren't\",\n",
       " 'couldn',\n",
       " \"couldn't\",\n",
       " 'didn',\n",
       " \"didn't\",\n",
       " 'doesn',\n",
       " \"doesn't\",\n",
       " 'hadn',\n",
       " \"hadn't\",\n",
       " 'hasn',\n",
       " \"hasn't\",\n",
       " 'haven',\n",
       " \"haven't\",\n",
       " 'isn',\n",
       " \"isn't\",\n",
       " 'ma',\n",
       " 'mightn',\n",
       " \"mightn't\",\n",
       " 'mustn',\n",
       " \"mustn't\",\n",
       " 'needn',\n",
       " \"needn't\",\n",
       " 'shan',\n",
       " \"shan't\",\n",
       " 'shouldn',\n",
       " \"shouldn't\",\n",
       " 'wasn',\n",
       " \"wasn't\",\n",
       " 'weren',\n",
       " \"weren't\",\n",
       " 'won',\n",
       " \"won't\",\n",
       " 'wouldn',\n",
       " \"wouldn't\"]"
      ]
     },
     "execution_count": 51,
     "metadata": {},
     "output_type": "execute_result"
    }
   ],
   "source": [
    "stopwords = nltk.corpus.stopwords.words('english')\n",
    "stopwords\n",
    " #stopwords, que son las palabras conectoras que repetimos con frecuencia en un idioma\n",
    "    "
   ]
  },
  {
   "cell_type": "markdown",
   "metadata": {
    "colab_type": "text",
    "id": "BgFEbQbn59sB"
   },
   "source": [
    "¿Les parece conveniente aplicar todos los stopwords que aparecen en esa lista?\n",
    "\n",
    "Eliminar del titular elegido los stopwords."
   ]
  },
  {
   "cell_type": "code",
   "execution_count": 52,
   "metadata": {
    "ExecuteTime": {
     "end_time": "2020-09-12T14:59:02.708996Z",
     "start_time": "2020-09-12T14:59:02.694996Z"
    },
    "colab": {},
    "colab_type": "code",
    "id": "NmTzr0B-59sC"
   },
   "outputs": [
    {
     "data": {
      "text/plain": [
       "['barcelona', 'holds', 'huge', 'protest', 'support', 'refugees']"
      ]
     },
     "execution_count": 52,
     "metadata": {},
     "output_type": "execute_result"
    }
   ],
   "source": [
    "titular_wt_sin_sw = [wt for wt in titular_wt if wt not in stopwords]\n",
    "#wt es una lista donde  van a estar las palabras que no\n",
    "#sean igual a las stopwords\n",
    "\n",
    "titular_wt_sin_sw"
   ]
  },
  {
   "cell_type": "markdown",
   "metadata": {
    "colab_type": "text",
    "id": "enMkvzF059sG"
   },
   "source": [
    "¿Cuál o cuáles palabras se fueron?"
   ]
  },
  {
   "cell_type": "code",
   "execution_count": 53,
   "metadata": {
    "ExecuteTime": {
     "end_time": "2020-09-12T14:59:02.724999Z",
     "start_time": "2020-09-12T14:59:02.711999Z"
    }
   },
   "outputs": [
    {
     "data": {
      "text/plain": [
       "array(['in', 'of'], dtype='<U9')"
      ]
     },
     "execution_count": 53,
     "metadata": {},
     "output_type": "execute_result"
    }
   ],
   "source": [
    "#Es decir cuales stopwors quedaron afuera\n",
    "np.setdiff1d(titular_wt,titular_wt_sin_sw)\n",
    "#diferencia de la lista de las palabras del titulo y sin la que no tiene stopwors\n",
    "#En este caso no tenia stopwords"
   ]
  },
  {
   "cell_type": "markdown",
   "metadata": {
    "colab_type": "text",
    "id": "2yF74I2o59sH"
   },
   "source": [
    "### Frecuencia de palabras\n",
    "\n",
    "Dado el titular ya tokenizado por palabras y sin stopwords, usar `nltk` para extrar la frecuencia con que aparece cada palabras. ¿Tiene sentido esto para titulares?"
   ]
  },
  {
   "cell_type": "code",
   "execution_count": 54,
   "metadata": {
    "ExecuteTime": {
     "end_time": "2020-09-12T14:59:02.741000Z",
     "start_time": "2020-09-12T14:59:02.729000Z"
    },
    "colab": {},
    "colab_type": "code",
    "id": "JO_5gVmD59sH"
   },
   "outputs": [
    {
     "data": {
      "text/plain": [
       "['barcelona', 'holds', 'huge', 'protest', 'support', 'refugees']"
      ]
     },
     "execution_count": 54,
     "metadata": {},
     "output_type": "execute_result"
    }
   ],
   "source": [
    "freq = nltk.unique_list(titular_wt_sin_sw)\n",
    "freq"
   ]
  },
  {
   "cell_type": "markdown",
   "metadata": {
    "colab_type": "text",
    "id": "rqLvW4FS59sK"
   },
   "source": [
    "### Dataset Completo\n",
    "\n",
    "Antes de pasar a extraer features de cada instancia del Dataset, podemos hacer un pequeño análisis del dataset en su conjunto. Por ejemplo, una opción es agrupar todos los titulares por tipo y extraer de cada clase las palabras más frecuentes. Para ello:\n",
    "\n",
    "1. Agrupar los titulares por tipo. Crear un dataframe para cada uno. Recuerden usar máscaras.\n",
    "2. Crear una lista vacia y agregar en esa lista todos los titulares (por tipo/dataframe creado) ya tokenizados (usar el `RegexpTokenizer`) y filtrado por `stopwords`.\n",
    "3. Usar el `FreqDist` en esa lista que acaban de llenar. Llevar lo que devuelve `FreqDist` a un Dataframe. Ordenar por frecuencia en que aparece cada palabra.\n",
    "4. Hacer un `barplot` o similar para visualizar.\n",
    "5. ¿Qué palabras filtrarían, aparte de las que aparecen en `stopwords`? Crear una lista vacía y agregarlas a mano. Agregar en el código que realizaron una línea (similar a la que usan con `stopwords`) para que también filtre por esas palabras.\n",
    "6. Volver a visualizar.\n",
    "\n",
    "#### No-Sarcasmo"
   ]
  },
  {
   "cell_type": "code",
   "execution_count": 55,
   "metadata": {
    "ExecuteTime": {
     "end_time": "2020-09-12T14:59:02.773002Z",
     "start_time": "2020-09-12T14:59:02.745001Z"
    },
    "colab": {},
    "colab_type": "code",
    "id": "esPrjiQ_59sL"
   },
   "outputs": [
    {
     "data": {
      "text/html": [
       "<div>\n",
       "<style scoped>\n",
       "    .dataframe tbody tr th:only-of-type {\n",
       "        vertical-align: middle;\n",
       "    }\n",
       "\n",
       "    .dataframe tbody tr th {\n",
       "        vertical-align: top;\n",
       "    }\n",
       "\n",
       "    .dataframe thead th {\n",
       "        text-align: right;\n",
       "    }\n",
       "</style>\n",
       "<table border=\"1\" class=\"dataframe\">\n",
       "  <thead>\n",
       "    <tr style=\"text-align: right;\">\n",
       "      <th></th>\n",
       "      <th>article_link</th>\n",
       "      <th>headline</th>\n",
       "      <th>is_sarcastic</th>\n",
       "    </tr>\n",
       "  </thead>\n",
       "  <tbody>\n",
       "    <tr>\n",
       "      <th>0</th>\n",
       "      <td>https://www.huffingtonpost.com/entry/versace-b...</td>\n",
       "      <td>former versace store clerk sues over secret 'b...</td>\n",
       "      <td>0</td>\n",
       "    </tr>\n",
       "    <tr>\n",
       "      <th>1</th>\n",
       "      <td>https://www.huffingtonpost.com/entry/roseanne-...</td>\n",
       "      <td>the 'roseanne' revival catches up to our thorn...</td>\n",
       "      <td>0</td>\n",
       "    </tr>\n",
       "    <tr>\n",
       "      <th>4</th>\n",
       "      <td>https://www.huffingtonpost.com/entry/jk-rowlin...</td>\n",
       "      <td>j.k. rowling wishes snape happy birthday in th...</td>\n",
       "      <td>0</td>\n",
       "    </tr>\n",
       "    <tr>\n",
       "      <th>5</th>\n",
       "      <td>https://www.huffingtonpost.com/entry/advancing...</td>\n",
       "      <td>advancing the world's women</td>\n",
       "      <td>0</td>\n",
       "    </tr>\n",
       "    <tr>\n",
       "      <th>6</th>\n",
       "      <td>https://www.huffingtonpost.com/entry/how-meat-...</td>\n",
       "      <td>the fascinating case for eating lab-grown meat</td>\n",
       "      <td>0</td>\n",
       "    </tr>\n",
       "  </tbody>\n",
       "</table>\n",
       "</div>"
      ],
      "text/plain": [
       "                                        article_link  \\\n",
       "0  https://www.huffingtonpost.com/entry/versace-b...   \n",
       "1  https://www.huffingtonpost.com/entry/roseanne-...   \n",
       "4  https://www.huffingtonpost.com/entry/jk-rowlin...   \n",
       "5  https://www.huffingtonpost.com/entry/advancing...   \n",
       "6  https://www.huffingtonpost.com/entry/how-meat-...   \n",
       "\n",
       "                                            headline  is_sarcastic  \n",
       "0  former versace store clerk sues over secret 'b...             0  \n",
       "1  the 'roseanne' revival catches up to our thorn...             0  \n",
       "4  j.k. rowling wishes snape happy birthday in th...             0  \n",
       "5                        advancing the world's women             0  \n",
       "6     the fascinating case for eating lab-grown meat             0  "
      ]
     },
     "execution_count": 55,
     "metadata": {},
     "output_type": "execute_result"
    }
   ],
   "source": [
    "dataset_no_sarcasmo = dataset.query('is_sarcastic==0')\n",
    "dataset_no_sarcasmo.head()"
   ]
  },
  {
   "cell_type": "code",
   "execution_count": 56,
   "metadata": {
    "ExecuteTime": {
     "end_time": "2020-09-12T14:59:03.475053Z",
     "start_time": "2020-09-12T14:59:02.776007Z"
    },
    "colab": {},
    "colab_type": "code",
    "id": "yU-_hqc159sN"
   },
   "outputs": [],
   "source": [
    "todos_titulares_no_sarcasmo = []\n",
    "#regla=\"\"\"\n",
    "#\\b             # comienzo de delimitador de palabra\n",
    "#[\\w.%+-]       # usuario: Cualquier caracter alfanumerico mas los signos (.%+-)\n",
    "#+@             # seguido de @\n",
    "#[\\w.-]         # dominio: Cualquier caracter alfanumerico mas los signos (.-)\n",
    "#+\\.            # seguido de .\n",
    "#[a-zA-Z]{2,6}  # dominio de alto nivel: 2 a 6 letras en minúsculas o mayúsculas.\n",
    "#\\b             # fin de delimitador de palabra\n",
    "#\"\"\"\n",
    "#titular = RegexpTokenizer(\"\\w+|\\$[\\d\\.]+|\\S+\").tokenize(titular)\n",
    "#reg='\\w+'\n",
    "\n",
    "#regla=r'[\\d.,]+|[A-Z][.A-Z]+\\b\\.*|\\w+|\\S'\n",
    "regla='\\w+'\n",
    "\n",
    "#regla seria la expresión regular\n",
    "for i in range(dataset_no_sarcasmo.shape[0]):\n",
    "    titular = dataset_no_sarcasmo.headline.iloc[i]  # seleccionar el titular\n",
    "    titular = nltk.RegexpTokenizer(regla).tokenize(titular)  # Tokenizar con RegexpTokenizer\n",
    "    titular = [i for i in titular if i not in stopwords]  # Filtrar por stopwords\n",
    "    todos_titulares_no_sarcasmo.append(titular) # agregar el resultado a la lista\n",
    "    #guarda todos los titulares no sarcasmo"
   ]
  },
  {
   "cell_type": "code",
   "execution_count": 57,
   "metadata": {
    "ExecuteTime": {
     "end_time": "2020-09-12T14:59:03.491056Z",
     "start_time": "2020-09-12T14:59:03.476054Z"
    }
   },
   "outputs": [],
   "source": [
    "#titular_wt_sin_sw = [wt for wt in titular_wt if wt not in stopwords]\n",
    "# nltk.FreqDist("
   ]
  },
  {
   "cell_type": "code",
   "execution_count": 58,
   "metadata": {
    "ExecuteTime": {
     "end_time": "2020-09-12T14:59:03.523058Z",
     "start_time": "2020-09-12T14:59:03.493056Z"
    },
    "colab": {},
    "colab_type": "code",
    "id": "xLULX6Tf59sQ"
   },
   "outputs": [
    {
     "data": {
      "text/plain": [
       "['former',\n",
       " 'versace',\n",
       " 'store',\n",
       " 'clerk',\n",
       " 'sues',\n",
       " 'secret',\n",
       " 'black',\n",
       " 'code',\n",
       " 'minority',\n",
       " 'shoppers',\n",
       " 'roseanne',\n",
       " 'revival',\n",
       " 'catches',\n",
       " 'thorny',\n",
       " 'political',\n",
       " 'mood',\n",
       " 'better',\n",
       " 'worse',\n",
       " 'j',\n",
       " 'k',\n",
       " 'rowling',\n",
       " 'wishes',\n",
       " 'snape',\n",
       " 'happy',\n",
       " 'birthday',\n",
       " 'magical',\n",
       " 'way',\n",
       " 'advancing',\n",
       " 'world',\n",
       " 'women',\n",
       " 'fascinating',\n",
       " 'case',\n",
       " 'eating',\n",
       " 'lab',\n",
       " 'grown',\n",
       " 'meat',\n",
       " 'ceo',\n",
       " 'send',\n",
       " 'kids',\n",
       " 'school',\n",
       " 'work',\n",
       " 'company',\n",
       " 'friday',\n",
       " 'morning',\n",
       " 'email',\n",
       " 'inside',\n",
       " 'trump',\n",
       " 'presser',\n",
       " 'ages',\n",
       " 'airline',\n",
       " 'passengers',\n",
       " 'tackle',\n",
       " 'man',\n",
       " 'rushes',\n",
       " 'cockpit',\n",
       " 'bomb',\n",
       " 'threat',\n",
       " 'facebook',\n",
       " 'reportedly',\n",
       " 'working',\n",
       " 'healthcare',\n",
       " 'features',\n",
       " 'apps',\n",
       " 'north',\n",
       " 'korea',\n",
       " 'praises',\n",
       " 'trump',\n",
       " 'urges',\n",
       " 'us',\n",
       " 'voters',\n",
       " 'reject',\n",
       " 'dull',\n",
       " 'hillary',\n",
       " 'actually',\n",
       " 'cnn',\n",
       " 'jeffrey',\n",
       " 'lord',\n",
       " 'indefensible',\n",
       " 'barcelona',\n",
       " 'holds',\n",
       " 'huge',\n",
       " 'protest',\n",
       " 'support',\n",
       " 'refugees',\n",
       " 'bloomberg',\n",
       " 'program',\n",
       " 'build',\n",
       " 'better',\n",
       " 'cities',\n",
       " 'got',\n",
       " 'bigger',\n",
       " 'craig',\n",
       " 'hicks',\n",
       " 'indicted',\n",
       " 'qatar',\n",
       " 'deporting',\n",
       " 'dutch',\n",
       " 'woman',\n",
       " 'reported',\n",
       " 'drugged',\n",
       " 'raped',\n",
       " 'go',\n",
       " 'circus',\n",
       " 'ted',\n",
       " 'cruz',\n",
       " 'hits',\n",
       " 'panic',\n",
       " 'button',\n",
       " 'could',\n",
       " 'lose',\n",
       " 'houses',\n",
       " 'congress',\n",
       " 'writers',\n",
       " 'must',\n",
       " 'plan',\n",
       " 'surprised',\n",
       " 'obama',\n",
       " 'visits',\n",
       " 'arlington',\n",
       " 'national',\n",
       " 'cemetery',\n",
       " 'honor',\n",
       " 'veterans',\n",
       " 'remembrance',\n",
       " 'beginning',\n",
       " 'task',\n",
       " 'allies',\n",
       " 'islamist',\n",
       " 'motive',\n",
       " 'killing',\n",
       " 'nemtsov',\n",
       " 'nonsense',\n",
       " 'gillian',\n",
       " 'jacobs',\n",
       " 'like',\n",
       " 'kiss',\n",
       " 'adam',\n",
       " 'brody',\n",
       " 'uber',\n",
       " 'vows',\n",
       " 'repay',\n",
       " 'nyc',\n",
       " 'drivers',\n",
       " 'tens',\n",
       " 'millions',\n",
       " 'tax',\n",
       " 'snafu',\n",
       " 'apple',\n",
       " 'may',\n",
       " 'poached',\n",
       " 'electric',\n",
       " 'motorcycle',\n",
       " 'company',\n",
       " 'death',\n",
       " 'drug',\n",
       " 'resistant',\n",
       " 'bacteria',\n",
       " 'often',\n",
       " 'lurk',\n",
       " 'children',\n",
       " 'dogs',\n",
       " 'sandboxes',\n",
       " 'see',\n",
       " 'muslim',\n",
       " 'airport',\n",
       " 'moana',\n",
       " 'sails',\n",
       " 'straight',\n",
       " 'top',\n",
       " 'box',\n",
       " 'office',\n",
       " 'massive',\n",
       " '81',\n",
       " '1',\n",
       " 'million',\n",
       " 'opening',\n",
       " 'selig',\n",
       " 'counted',\n",
       " 'money',\n",
       " 'baseball',\n",
       " 'lost',\n",
       " 'next',\n",
       " 'generation',\n",
       " 'fans',\n",
       " 'devin',\n",
       " 'nunes',\n",
       " 'vows',\n",
       " 'never',\n",
       " 'reveal',\n",
       " 'source',\n",
       " 'surveillance',\n",
       " 'claims',\n",
       " 'scott',\n",
       " 'used',\n",
       " 'stop',\n",
       " 'breathing',\n",
       " 'nearly',\n",
       " '40',\n",
       " 'times',\n",
       " 'hour',\n",
       " 'device',\n",
       " 'changed',\n",
       " 'life',\n",
       " 'medics',\n",
       " 'drop',\n",
       " 'soccer',\n",
       " 'player',\n",
       " 'stretcher',\n",
       " 'ticked',\n",
       " 'give',\n",
       " 'gift',\n",
       " 'play',\n",
       " 'holiday',\n",
       " 'season',\n",
       " 'spicer',\n",
       " 'denies',\n",
       " 'ending',\n",
       " 'maternity',\n",
       " 'care',\n",
       " 'guarantee',\n",
       " 'would',\n",
       " 'mean',\n",
       " 'women',\n",
       " 'pay',\n",
       " 'health',\n",
       " 'care',\n",
       " 'diy',\n",
       " 'sports',\n",
       " 'equipment',\n",
       " 'closet',\n",
       " '1',\n",
       " 'dead',\n",
       " '3',\n",
       " 'injured',\n",
       " 'shooting',\n",
       " 'concert',\n",
       " 'nyc',\n",
       " 'donald',\n",
       " 'trump',\n",
       " 'heading',\n",
       " 'series',\n",
       " 'wins',\n",
       " 'northeast',\n",
       " 'polls',\n",
       " 'say',\n",
       " 'donald',\n",
       " 'trump',\n",
       " 'ready',\n",
       " 'cash',\n",
       " 'self',\n",
       " 'finance',\n",
       " 'entire',\n",
       " 'campaign',\n",
       " 'analysis',\n",
       " 'un',\n",
       " 'rights',\n",
       " 'chief',\n",
       " 'calls',\n",
       " 'humanitarian',\n",
       " 'situation',\n",
       " 'syria',\n",
       " 'outrage',\n",
       " 'track',\n",
       " 'santa',\n",
       " 'claus',\n",
       " 'flight',\n",
       " 'around',\n",
       " 'world',\n",
       " 'christmas',\n",
       " 'eve',\n",
       " 'one',\n",
       " 'planet',\n",
       " 'powerful',\n",
       " 'forces',\n",
       " 'change',\n",
       " 'adolescent',\n",
       " 'girl',\n",
       " 'draymond',\n",
       " 'green',\n",
       " 'take',\n",
       " 'game',\n",
       " 'next',\n",
       " 'level',\n",
       " 'tuning',\n",
       " 'wnba',\n",
       " 'ryan',\n",
       " 'lochte',\n",
       " 'apologizes',\n",
       " 'behavior',\n",
       " 'rio',\n",
       " '4',\n",
       " 'lessons',\n",
       " 'prison',\n",
       " 'taught',\n",
       " 'power',\n",
       " 'control',\n",
       " 'america',\n",
       " 'first',\n",
       " 'muslim',\n",
       " 'fraternity',\n",
       " 'really',\n",
       " 'like',\n",
       " 'vicious',\n",
       " 'knot',\n",
       " 'syria',\n",
       " 'untangling',\n",
       " 'process',\n",
       " 'contains',\n",
       " 'solutions',\n",
       " 'time',\n",
       " 'congressman',\n",
       " 'thinks',\n",
       " 'fix',\n",
       " 'economy',\n",
       " 'drinking',\n",
       " 'beer',\n",
       " 'trump',\n",
       " 'orders',\n",
       " 'strikes',\n",
       " 'syria',\n",
       " 'retaliation',\n",
       " 'chemical',\n",
       " 'attack',\n",
       " 'year',\n",
       " 'round',\n",
       " 'schooling',\n",
       " 'would',\n",
       " 'help',\n",
       " 'minority',\n",
       " 'students',\n",
       " '90',\n",
       " 'zen',\n",
       " 'teachers',\n",
       " 'pledge',\n",
       " 'change',\n",
       " 'culture',\n",
       " 'fosters',\n",
       " 'abuse',\n",
       " 'nypd',\n",
       " 'weighs',\n",
       " 'allowing',\n",
       " 'chokeholds',\n",
       " 'following',\n",
       " 'eric',\n",
       " 'garner',\n",
       " 'death',\n",
       " 'pope',\n",
       " 'francis',\n",
       " 'reminds',\n",
       " 'world',\n",
       " 'caring',\n",
       " 'earth',\n",
       " 'everyone',\n",
       " 'responsibility',\n",
       " 'gravity',\n",
       " '12',\n",
       " 'years',\n",
       " 'slave',\n",
       " 'tie',\n",
       " '2014',\n",
       " 'pga',\n",
       " 'awards',\n",
       " 'national',\n",
       " 'coming',\n",
       " 'day',\n",
       " '150',\n",
       " 'lgbtq',\n",
       " 'sports',\n",
       " 'people',\n",
       " 'come',\n",
       " 'last',\n",
       " 'year',\n",
       " 'john',\n",
       " 'oliver',\n",
       " 'lays',\n",
       " 'disturbing',\n",
       " 'ways',\n",
       " 'trump',\n",
       " 'impacts',\n",
       " 'america',\n",
       " 'house',\n",
       " 'gop',\n",
       " 'crackdown',\n",
       " 'continues',\n",
       " 'look',\n",
       " 'world',\n",
       " 'cup',\n",
       " 'star',\n",
       " 'attacked',\n",
       " 'giant',\n",
       " 'bug',\n",
       " 'inhofe',\n",
       " 'grand',\n",
       " 'climate',\n",
       " 'conspiracy',\n",
       " 'theory',\n",
       " 'barbra',\n",
       " 'streisand',\n",
       " '5',\n",
       " 'questions',\n",
       " 'wish',\n",
       " 'younger',\n",
       " 'people',\n",
       " 'would',\n",
       " 'stop',\n",
       " 'asking',\n",
       " 'albuquerque',\n",
       " 'shooter',\n",
       " 'loose',\n",
       " 'gunman',\n",
       " 'leaves',\n",
       " '1',\n",
       " 'dead',\n",
       " '3',\n",
       " 'injured',\n",
       " 'like',\n",
       " 'lose',\n",
       " 'everything',\n",
       " 'flood',\n",
       " 'demi',\n",
       " 'lovato',\n",
       " 'drops',\n",
       " 'emotional',\n",
       " 'nightingale',\n",
       " 'music',\n",
       " 'vid',\n",
       " 'miley',\n",
       " 'cyrus',\n",
       " 'liam',\n",
       " 'hemsworth',\n",
       " 'smooch',\n",
       " 'nye',\n",
       " 'world',\n",
       " 'notices',\n",
       " 'parks',\n",
       " 'rec',\n",
       " 'star',\n",
       " 'natalie',\n",
       " 'morales',\n",
       " 'comes',\n",
       " 'queer',\n",
       " 'top',\n",
       " 'italy',\n",
       " 'tours',\n",
       " '2015',\n",
       " 'kaia',\n",
       " 'gerber',\n",
       " 'cindy',\n",
       " 'crawford',\n",
       " 'daughter',\n",
       " 'lands',\n",
       " 'major',\n",
       " 'fashion',\n",
       " 'campaign',\n",
       " 'james',\n",
       " 'corden',\n",
       " 'roasts',\n",
       " 'david',\n",
       " 'beckham',\n",
       " 'matching',\n",
       " 'outfits',\n",
       " 'posh',\n",
       " 'mcdonald',\n",
       " 'says',\n",
       " 'packaging',\n",
       " '100',\n",
       " 'percent',\n",
       " 'green',\n",
       " '2025',\n",
       " 'kris',\n",
       " 'jenner',\n",
       " 'turned',\n",
       " 'way',\n",
       " 'drunken',\n",
       " 'valentine',\n",
       " 'day',\n",
       " 'karaoke',\n",
       " 'texas',\n",
       " 'ebola',\n",
       " 'patient',\n",
       " 'fighting',\n",
       " 'life',\n",
       " 'scott',\n",
       " 'pruitt',\n",
       " 'sort',\n",
       " 'answers',\n",
       " 'whether',\n",
       " 'trump',\n",
       " 'believes',\n",
       " 'climate',\n",
       " 'change',\n",
       " 'accused',\n",
       " 'father',\n",
       " 'son',\n",
       " 'urinal',\n",
       " 'thieves',\n",
       " 'flushed',\n",
       " 'cops',\n",
       " '3',\n",
       " 'libertarians',\n",
       " 'fuel',\n",
       " '7',\n",
       " 'million',\n",
       " 'super',\n",
       " 'pac',\n",
       " 'philadelphia',\n",
       " 'mayoral',\n",
       " 'democratic',\n",
       " 'primary',\n",
       " 'air',\n",
       " 'force',\n",
       " 'longer',\n",
       " 'require',\n",
       " 'help',\n",
       " 'god',\n",
       " 'enlistment',\n",
       " 'oaths',\n",
       " 'explosion',\n",
       " 'fells',\n",
       " 'building',\n",
       " 'outside',\n",
       " 'paris',\n",
       " 'killing',\n",
       " 'least',\n",
       " '2',\n",
       " 'source',\n",
       " 'donald',\n",
       " 'trump',\n",
       " 'military',\n",
       " 'expertise',\n",
       " 'finally',\n",
       " 'revealed',\n",
       " 'union',\n",
       " 'claims',\n",
       " 'sanders',\n",
       " 'campaign',\n",
       " 'staffers',\n",
       " 'posed',\n",
       " 'members',\n",
       " 'influence',\n",
       " 'workers',\n",
       " 'seattle',\n",
       " 'mayor',\n",
       " 'accuser',\n",
       " 'sex',\n",
       " 'abuse',\n",
       " 'lawsuit',\n",
       " 'comes',\n",
       " 'forward',\n",
       " 'swedish',\n",
       " 'police',\n",
       " 'featured',\n",
       " 'film',\n",
       " 'shown',\n",
       " 'fox',\n",
       " 'news',\n",
       " 'say',\n",
       " 'selectively',\n",
       " 'edited',\n",
       " 'chromat',\n",
       " 'features',\n",
       " '1',\n",
       " '2',\n",
       " 'plus',\n",
       " 'size',\n",
       " 'models',\n",
       " 'runway',\n",
       " 'councilman',\n",
       " 'calls',\n",
       " 'baltimore',\n",
       " 'rappers',\n",
       " 'inspire',\n",
       " 'students',\n",
       " '10',\n",
       " 'qualities',\n",
       " 'inner',\n",
       " 'spirit',\n",
       " 'parenting',\n",
       " 'advice',\n",
       " 'dare',\n",
       " 'give',\n",
       " 'celebrities',\n",
       " 'celebrate',\n",
       " 'fourth',\n",
       " 'july',\n",
       " 'fun',\n",
       " 'sun',\n",
       " 'international',\n",
       " 'women',\n",
       " 'day',\n",
       " 'western',\n",
       " 'women',\n",
       " 'save',\n",
       " 'world',\n",
       " 'michelle',\n",
       " 'phan',\n",
       " 'youtube',\n",
       " 'beauty',\n",
       " 'bestie',\n",
       " 'empowers',\n",
       " 'women',\n",
       " 'outside',\n",
       " 'caitlyn',\n",
       " 'jenner',\n",
       " 'responds',\n",
       " 'ricky',\n",
       " 'gervais',\n",
       " 'golden',\n",
       " 'globes',\n",
       " 'jokes',\n",
       " 'joy',\n",
       " 'behar',\n",
       " 'responds',\n",
       " 'michael',\n",
       " 'flynn',\n",
       " 'guilty',\n",
       " 'plea',\n",
       " 'pure',\n",
       " 'joy',\n",
       " '6',\n",
       " 'things',\n",
       " 'one',\n",
       " 'tells',\n",
       " 'women',\n",
       " 'weight',\n",
       " 'loss',\n",
       " 'journey',\n",
       " 'ne',\n",
       " 'yo',\n",
       " 'helps',\n",
       " 'raise',\n",
       " '2',\n",
       " '3',\n",
       " 'million',\n",
       " 'california',\n",
       " 'engineering',\n",
       " 'school',\n",
       " 'elizabeth',\n",
       " 'warren',\n",
       " 'calls',\n",
       " 'donald',\n",
       " 'trump',\n",
       " 'racist',\n",
       " 'bully',\n",
       " 'six',\n",
       " 'dead',\n",
       " '10',\n",
       " 'hurt',\n",
       " 'baltimore',\n",
       " 'commuter',\n",
       " 'school',\n",
       " 'bus',\n",
       " 'crash',\n",
       " 'kim',\n",
       " 'gordon',\n",
       " 'clarifies',\n",
       " 'comments',\n",
       " 'lana',\n",
       " 'del',\n",
       " 'rey',\n",
       " 'feminism',\n",
       " 'niece',\n",
       " 'cancer',\n",
       " 'ticked',\n",
       " 'supermodel',\n",
       " 'stephanie',\n",
       " 'seymour',\n",
       " 'arrested',\n",
       " 'charged',\n",
       " 'drunken',\n",
       " 'driving',\n",
       " 'scoliosis',\n",
       " 'need',\n",
       " 'know',\n",
       " 'controversy',\n",
       " 'erupts',\n",
       " 'uk',\n",
       " 'retailer',\n",
       " 'removes',\n",
       " 'gender',\n",
       " 'labels',\n",
       " 'kids',\n",
       " 'clothes',\n",
       " 'megyn',\n",
       " 'kelly',\n",
       " 'donald',\n",
       " 'trump',\n",
       " 'done',\n",
       " 'level',\n",
       " 'best',\n",
       " 'make',\n",
       " 'story',\n",
       " 'secret',\n",
       " 'behind',\n",
       " 'one',\n",
       " 'day',\n",
       " 'project',\n",
       " 'going',\n",
       " 'viral',\n",
       " 'creating',\n",
       " 'leverage',\n",
       " 'none',\n",
       " 'seems',\n",
       " 'exist',\n",
       " 'lawsuit',\n",
       " 'black',\n",
       " 'lives',\n",
       " 'matter',\n",
       " 'central',\n",
       " 'meaning',\n",
       " 'first',\n",
       " 'amendment',\n",
       " 'wire',\n",
       " 'cast',\n",
       " 'reunited',\n",
       " 'baltimore',\n",
       " 'uplift',\n",
       " 'community',\n",
       " 'obama',\n",
       " 'supreme',\n",
       " 'court',\n",
       " 'nominee',\n",
       " 'bragged',\n",
       " 'sending',\n",
       " 'man',\n",
       " 'prison',\n",
       " 'free',\n",
       " 'death',\n",
       " 'c',\n",
       " 'man',\n",
       " 'security',\n",
       " 'guard',\n",
       " 'custody',\n",
       " 'ruled',\n",
       " 'homicide',\n",
       " 'boehner',\n",
       " 'vows',\n",
       " 'leave',\n",
       " 'successor',\n",
       " 'clean',\n",
       " 'slate',\n",
       " 'facing',\n",
       " 'rising',\n",
       " 'seas',\n",
       " 'remote',\n",
       " 'alaskan',\n",
       " 'village',\n",
       " 'votes',\n",
       " 'move',\n",
       " 'worst',\n",
       " 'place',\n",
       " 'world',\n",
       " 'child',\n",
       " 'mom',\n",
       " 'sentenced',\n",
       " 'encouraging',\n",
       " 'boyfriend',\n",
       " 'sex',\n",
       " 'assault',\n",
       " 'baby',\n",
       " 'donald',\n",
       " 'trump',\n",
       " 'assault',\n",
       " 'values',\n",
       " 'women',\n",
       " 'march',\n",
       " 'inspired',\n",
       " 'run',\n",
       " 'unseating',\n",
       " 'gop',\n",
       " 'men',\n",
       " 'worth',\n",
       " 'america',\n",
       " 'gop',\n",
       " 'senators',\n",
       " 'ready',\n",
       " 'accept',\n",
       " 'trump',\n",
       " 'champion',\n",
       " 'price',\n",
       " 'gouging',\n",
       " 'pharma',\n",
       " 'ceo',\n",
       " 'takes',\n",
       " 'cancer',\n",
       " 'company',\n",
       " 'straight',\n",
       " 'outta',\n",
       " 'compton',\n",
       " 'stunning',\n",
       " 'surprise',\n",
       " 'carly',\n",
       " 'rae',\n",
       " 'jepsen',\n",
       " 'released',\n",
       " 'new',\n",
       " 'single',\n",
       " 'gunman',\n",
       " 'kills',\n",
       " 'one',\n",
       " 'wounds',\n",
       " 'four',\n",
       " 'shooting',\n",
       " 'german',\n",
       " 'nightclub',\n",
       " 'mountain',\n",
       " 'lion',\n",
       " 'tracked',\n",
       " 'scientists',\n",
       " 'found',\n",
       " 'dead',\n",
       " 'near',\n",
       " 'malibu',\n",
       " 'road',\n",
       " 'noah',\n",
       " 'cyrus',\n",
       " 'makes',\n",
       " 'late',\n",
       " 'night',\n",
       " 'debut',\n",
       " 'belting',\n",
       " 'make',\n",
       " 'cry',\n",
       " 'taylor',\n",
       " 'swift',\n",
       " 'used',\n",
       " 'gremlin',\n",
       " 'voice',\n",
       " 'writing',\n",
       " '1989',\n",
       " 'best',\n",
       " 'way',\n",
       " 'eat',\n",
       " 'avocados',\n",
       " 'avocado',\n",
       " 'pasta',\n",
       " 'open',\n",
       " 'letter',\n",
       " 'progressives',\n",
       " 'tpp',\n",
       " 'yet',\n",
       " 'progressive',\n",
       " 'trade',\n",
       " 'agreement',\n",
       " 'history',\n",
       " 'justice',\n",
       " 'thomas',\n",
       " 'wife',\n",
       " 'calls',\n",
       " 'supreme',\n",
       " 'court',\n",
       " 'retirement',\n",
       " 'report',\n",
       " 'bogus',\n",
       " '7',\n",
       " 'ways',\n",
       " 'breakup',\n",
       " 'like',\n",
       " 'boss',\n",
       " 'sure',\n",
       " 'seems',\n",
       " 'like',\n",
       " 'frankie',\n",
       " 'muniz',\n",
       " 'wants',\n",
       " 'malcolm',\n",
       " 'middle',\n",
       " 'reboot',\n",
       " 'using',\n",
       " 'united',\n",
       " 'fiasco',\n",
       " 'flourish',\n",
       " 'future',\n",
       " 'thank',\n",
       " 'teacher',\n",
       " 'thursday',\n",
       " 'dominic',\n",
       " 'casulli',\n",
       " 'power',\n",
       " 'encouragement',\n",
       " 'part',\n",
       " '1',\n",
       " 'toe',\n",
       " 'arctic',\n",
       " 'ocean',\n",
       " 'canada',\n",
       " 'northwest',\n",
       " 'territories',\n",
       " 'looney',\n",
       " 'front',\n",
       " 'part',\n",
       " '2',\n",
       " 'never',\n",
       " 'happen',\n",
       " 'rubio',\n",
       " 'supporters',\n",
       " 'get',\n",
       " 'scuffle',\n",
       " 'rubiobot',\n",
       " 'music',\n",
       " 'strangers',\n",
       " 'film',\n",
       " 'review',\n",
       " 'dr',\n",
       " 'lloyd',\n",
       " 'sederer',\n",
       " 'obama',\n",
       " 'chides',\n",
       " 'darrell',\n",
       " 'issa',\n",
       " 'touting',\n",
       " 'alliance',\n",
       " 'election',\n",
       " 'fight',\n",
       " 'pope',\n",
       " 'francis',\n",
       " 'iraq',\n",
       " 'peace',\n",
       " 'message',\n",
       " 'meets',\n",
       " 'reality',\n",
       " 'war',\n",
       " 'ant',\n",
       " 'man',\n",
       " 'wasp',\n",
       " 'trailer',\n",
       " 'brings',\n",
       " 'fun',\n",
       " 'avengers',\n",
       " 'infinity',\n",
       " 'war',\n",
       " 'moses',\n",
       " 'red',\n",
       " 'sea',\n",
       " 'george',\n",
       " 'takei',\n",
       " 'accused',\n",
       " 'groping',\n",
       " 'former',\n",
       " 'male',\n",
       " 'model',\n",
       " '1981',\n",
       " 'hollywood',\n",
       " 'boys',\n",
       " 'club',\n",
       " 'supports',\n",
       " 'casey',\n",
       " 'affleck',\n",
       " 'total',\n",
       " 'disgrace',\n",
       " '3',\n",
       " 'myths',\n",
       " 'low',\n",
       " 'libido',\n",
       " 'huffpollster',\n",
       " 'americans',\n",
       " 'see',\n",
       " 'progress',\n",
       " 'room',\n",
       " 'improvement',\n",
       " 'voting',\n",
       " 'rights',\n",
       " 'world',\n",
       " 'miss',\n",
       " 'goal',\n",
       " 'universal',\n",
       " 'education',\n",
       " '50',\n",
       " 'years',\n",
       " 'un',\n",
       " 'jennifer',\n",
       " 'lopez',\n",
       " 'name',\n",
       " 'jennifer',\n",
       " 'lopez',\n",
       " 'rebuild',\n",
       " 'credit',\n",
       " 'bankruptcy',\n",
       " 'fast',\n",
       " 'discover',\n",
       " 'climate',\n",
       " 'change',\n",
       " 'rapidly',\n",
       " 'transforming',\n",
       " 'earth',\n",
       " 'google',\n",
       " 'timelapse',\n",
       " 'voting',\n",
       " 'lines',\n",
       " 'shorter',\n",
       " 'mostly',\n",
       " 'whites',\n",
       " 'amanda',\n",
       " 'slavin',\n",
       " 'statistic',\n",
       " 'laurie',\n",
       " 'hernandez',\n",
       " 'val',\n",
       " 'chmerkovskiy',\n",
       " 'already',\n",
       " ...]"
      ]
     },
     "execution_count": 58,
     "metadata": {},
     "output_type": "execute_result"
    }
   ],
   "source": [
    "# Esta celda convierte una lista de listas en una unica lista\n",
    "todos_titulares_no_sarcasmo = list(itertools.chain(*todos_titulares_no_sarcasmo))\n",
    "todos_titulares_no_sarcasmo"
   ]
  },
  {
   "cell_type": "code",
   "execution_count": 59,
   "metadata": {
    "ExecuteTime": {
     "end_time": "2020-09-12T14:59:03.619064Z",
     "start_time": "2020-09-12T14:59:03.525057Z"
    },
    "colab": {},
    "colab_type": "code",
    "id": "7d4GtxWP59sT"
   },
   "outputs": [
    {
     "data": {
      "text/plain": [
       "FreqDist({'trump': 1446, 'new': 680, 'donald': 458, 'says': 349, 'women': 317, 'one': 268, 'u': 263, 'year': 244, 'first': 242, 'world': 241, ...})"
      ]
     },
     "execution_count": 59,
     "metadata": {},
     "output_type": "execute_result"
    }
   ],
   "source": [
    "#FreqDist\n",
    "freq_no_sarcasmo = nltk.FreqDist(todos_titulares_no_sarcasmo)\n",
    "freq_no_sarcasmo"
   ]
  },
  {
   "cell_type": "code",
   "execution_count": 60,
   "metadata": {
    "ExecuteTime": {
     "end_time": "2020-09-12T14:59:03.665067Z",
     "start_time": "2020-09-12T14:59:03.621066Z"
    },
    "colab": {},
    "colab_type": "code",
    "id": "DZO5NKOv59sV"
   },
   "outputs": [
    {
     "data": {
      "text/html": [
       "<div>\n",
       "<style scoped>\n",
       "    .dataframe tbody tr th:only-of-type {\n",
       "        vertical-align: middle;\n",
       "    }\n",
       "\n",
       "    .dataframe tbody tr th {\n",
       "        vertical-align: top;\n",
       "    }\n",
       "\n",
       "    .dataframe thead th {\n",
       "        text-align: right;\n",
       "    }\n",
       "</style>\n",
       "<table border=\"1\" class=\"dataframe\">\n",
       "  <thead>\n",
       "    <tr style=\"text-align: right;\">\n",
       "      <th></th>\n",
       "      <th>word</th>\n",
       "      <th>Frequency</th>\n",
       "    </tr>\n",
       "  </thead>\n",
       "  <tbody>\n",
       "    <tr>\n",
       "      <th>0</th>\n",
       "      <td>former</td>\n",
       "      <td>82</td>\n",
       "    </tr>\n",
       "    <tr>\n",
       "      <th>1</th>\n",
       "      <td>versace</td>\n",
       "      <td>1</td>\n",
       "    </tr>\n",
       "    <tr>\n",
       "      <th>2</th>\n",
       "      <td>store</td>\n",
       "      <td>14</td>\n",
       "    </tr>\n",
       "    <tr>\n",
       "      <th>3</th>\n",
       "      <td>clerk</td>\n",
       "      <td>5</td>\n",
       "    </tr>\n",
       "    <tr>\n",
       "      <th>4</th>\n",
       "      <td>sues</td>\n",
       "      <td>15</td>\n",
       "    </tr>\n",
       "  </tbody>\n",
       "</table>\n",
       "</div>"
      ],
      "text/plain": [
       "      word  Frequency\n",
       "0   former         82\n",
       "1  versace          1\n",
       "2    store         14\n",
       "3    clerk          5\n",
       "4     sues         15"
      ]
     },
     "execution_count": 60,
     "metadata": {},
     "output_type": "execute_result"
    }
   ],
   "source": [
    "# googlear: how to get pandas dataframe from freqdist\n",
    "df_no_sarcasmo = pd.DataFrame(freq_no_sarcasmo.items(),columns=['word','Frequency'])\n",
    "df_no_sarcasmo.head()"
   ]
  },
  {
   "cell_type": "code",
   "execution_count": 61,
   "metadata": {
    "ExecuteTime": {
     "end_time": "2020-09-12T14:59:03.680069Z",
     "start_time": "2020-09-12T14:59:03.667069Z"
    },
    "colab": {},
    "colab_type": "code",
    "id": "wpyZjsBE59sZ"
   },
   "outputs": [
    {
     "data": {
      "text/html": [
       "<div>\n",
       "<style scoped>\n",
       "    .dataframe tbody tr th:only-of-type {\n",
       "        vertical-align: middle;\n",
       "    }\n",
       "\n",
       "    .dataframe tbody tr th {\n",
       "        vertical-align: top;\n",
       "    }\n",
       "\n",
       "    .dataframe thead th {\n",
       "        text-align: right;\n",
       "    }\n",
       "</style>\n",
       "<table border=\"1\" class=\"dataframe\">\n",
       "  <thead>\n",
       "    <tr style=\"text-align: right;\">\n",
       "      <th></th>\n",
       "      <th>word</th>\n",
       "      <th>Frequency</th>\n",
       "    </tr>\n",
       "  </thead>\n",
       "  <tbody>\n",
       "    <tr>\n",
       "      <th>46</th>\n",
       "      <td>trump</td>\n",
       "      <td>1446</td>\n",
       "    </tr>\n",
       "    <tr>\n",
       "      <th>671</th>\n",
       "      <td>new</td>\n",
       "      <td>680</td>\n",
       "    </tr>\n",
       "    <tr>\n",
       "      <th>229</th>\n",
       "      <td>donald</td>\n",
       "      <td>458</td>\n",
       "    </tr>\n",
       "    <tr>\n",
       "      <th>421</th>\n",
       "      <td>says</td>\n",
       "      <td>349</td>\n",
       "    </tr>\n",
       "    <tr>\n",
       "      <th>29</th>\n",
       "      <td>women</td>\n",
       "      <td>317</td>\n",
       "    </tr>\n",
       "  </tbody>\n",
       "</table>\n",
       "</div>"
      ],
      "text/plain": [
       "       word  Frequency\n",
       "46    trump       1446\n",
       "671     new        680\n",
       "229  donald        458\n",
       "421    says        349\n",
       "29    women        317"
      ]
     },
     "execution_count": 61,
     "metadata": {},
     "output_type": "execute_result"
    }
   ],
   "source": [
    "# ordenar por frecuencia\n",
    "df_no_sarcasmo.sort_values('Frequency',inplace=True,ascending=False)\n",
    "df_no_sarcasmo.head()"
   ]
  },
  {
   "cell_type": "code",
   "execution_count": 62,
   "metadata": {
    "ExecuteTime": {
     "end_time": "2020-09-12T14:59:03.696069Z",
     "start_time": "2020-09-12T14:59:03.684070Z"
    },
    "colab": {},
    "colab_type": "code",
    "id": "sVpbVWr559sc"
   },
   "outputs": [
    {
     "data": {
      "text/html": [
       "<div>\n",
       "<style scoped>\n",
       "    .dataframe tbody tr th:only-of-type {\n",
       "        vertical-align: middle;\n",
       "    }\n",
       "\n",
       "    .dataframe tbody tr th {\n",
       "        vertical-align: top;\n",
       "    }\n",
       "\n",
       "    .dataframe thead th {\n",
       "        text-align: right;\n",
       "    }\n",
       "</style>\n",
       "<table border=\"1\" class=\"dataframe\">\n",
       "  <thead>\n",
       "    <tr style=\"text-align: right;\">\n",
       "      <th></th>\n",
       "      <th>word</th>\n",
       "      <th>Frequency</th>\n",
       "    </tr>\n",
       "  </thead>\n",
       "  <tbody>\n",
       "    <tr>\n",
       "      <th>0</th>\n",
       "      <td>trump</td>\n",
       "      <td>1446</td>\n",
       "    </tr>\n",
       "    <tr>\n",
       "      <th>1</th>\n",
       "      <td>new</td>\n",
       "      <td>680</td>\n",
       "    </tr>\n",
       "    <tr>\n",
       "      <th>2</th>\n",
       "      <td>donald</td>\n",
       "      <td>458</td>\n",
       "    </tr>\n",
       "    <tr>\n",
       "      <th>3</th>\n",
       "      <td>says</td>\n",
       "      <td>349</td>\n",
       "    </tr>\n",
       "    <tr>\n",
       "      <th>4</th>\n",
       "      <td>women</td>\n",
       "      <td>317</td>\n",
       "    </tr>\n",
       "  </tbody>\n",
       "</table>\n",
       "</div>"
      ],
      "text/plain": [
       "     word  Frequency\n",
       "0   trump       1446\n",
       "1     new        680\n",
       "2  donald        458\n",
       "3    says        349\n",
       "4   women        317"
      ]
     },
     "execution_count": 62,
     "metadata": {},
     "output_type": "execute_result"
    }
   ],
   "source": [
    "#ordena los indices del dataframe\n",
    "df_no_sarcasmo.reset_index(drop = True, inplace=True)\n",
    "df_no_sarcasmo.head()"
   ]
  },
  {
   "cell_type": "code",
   "execution_count": 63,
   "metadata": {
    "ExecuteTime": {
     "end_time": "2020-09-12T14:59:04.302115Z",
     "start_time": "2020-09-12T14:59:03.699073Z"
    },
    "colab": {},
    "colab_type": "code",
    "id": "-pT9ATsW59sf"
   },
   "outputs": [
    {
     "data": {
      "image/png": "[encoded data removed]",
      "text/plain": [
       "<Figure size 1080x576 with 1 Axes>"
      ]
     },
     "metadata": {},
     "output_type": "display_data"
    }
   ],
   "source": [
    "plt.figure(figsize=(15, 8))\n",
    "sns.barplot(x=df_no_sarcasmo.iloc[:30].word,\n",
    "            y=df_no_sarcasmo.iloc[:30].Frequency)\n",
    "# plot = sns.barplot(\n",
    "# x=df_no_sarcasmo.iloc[:30].word, y=df_no_sarcasmo.iloc[:30].Frequency)\n",
    "# for item in plot.get_xticklabels():\n",
    "#   item.set_rotation(90)\n",
    "plt.xticks(rotation=90)\n",
    "plt.show()"
   ]
  },
  {
   "cell_type": "markdown",
   "metadata": {
    "colab_type": "text",
    "id": "AZNAKBcb59si"
   },
   "source": [
    "#### Sarcasmo"
   ]
  },
  {
   "cell_type": "code",
   "execution_count": 64,
   "metadata": {
    "ExecuteTime": {
     "end_time": "2020-09-12T14:59:04.333117Z",
     "start_time": "2020-09-12T14:59:04.304116Z"
    },
    "colab": {},
    "colab_type": "code",
    "id": "Uf6SybUO59sj"
   },
   "outputs": [
    {
     "data": {
      "text/html": [
       "<div>\n",
       "<style scoped>\n",
       "    .dataframe tbody tr th:only-of-type {\n",
       "        vertical-align: middle;\n",
       "    }\n",
       "\n",
       "    .dataframe tbody tr th {\n",
       "        vertical-align: top;\n",
       "    }\n",
       "\n",
       "    .dataframe thead th {\n",
       "        text-align: right;\n",
       "    }\n",
       "</style>\n",
       "<table border=\"1\" class=\"dataframe\">\n",
       "  <thead>\n",
       "    <tr style=\"text-align: right;\">\n",
       "      <th></th>\n",
       "      <th>article_link</th>\n",
       "      <th>headline</th>\n",
       "      <th>is_sarcastic</th>\n",
       "    </tr>\n",
       "  </thead>\n",
       "  <tbody>\n",
       "    <tr>\n",
       "      <th>2</th>\n",
       "      <td>https://local.theonion.com/mom-starting-to-fea...</td>\n",
       "      <td>mom starting to fear son's web series closest ...</td>\n",
       "      <td>1</td>\n",
       "    </tr>\n",
       "    <tr>\n",
       "      <th>3</th>\n",
       "      <td>https://politics.theonion.com/boehner-just-wan...</td>\n",
       "      <td>boehner just wants wife to listen, not come up...</td>\n",
       "      <td>1</td>\n",
       "    </tr>\n",
       "    <tr>\n",
       "      <th>8</th>\n",
       "      <td>https://politics.theonion.com/top-snake-handle...</td>\n",
       "      <td>top snake handler leaves sinking huckabee camp...</td>\n",
       "      <td>1</td>\n",
       "    </tr>\n",
       "    <tr>\n",
       "      <th>15</th>\n",
       "      <td>https://entertainment.theonion.com/nuclear-bom...</td>\n",
       "      <td>nuclear bomb detonates during rehearsal for 's...</td>\n",
       "      <td>1</td>\n",
       "    </tr>\n",
       "    <tr>\n",
       "      <th>16</th>\n",
       "      <td>https://www.theonion.com/cosby-lawyer-asks-why...</td>\n",
       "      <td>cosby lawyer asks why accusers didn't come for...</td>\n",
       "      <td>1</td>\n",
       "    </tr>\n",
       "  </tbody>\n",
       "</table>\n",
       "</div>"
      ],
      "text/plain": [
       "                                         article_link  \\\n",
       "2   https://local.theonion.com/mom-starting-to-fea...   \n",
       "3   https://politics.theonion.com/boehner-just-wan...   \n",
       "8   https://politics.theonion.com/top-snake-handle...   \n",
       "15  https://entertainment.theonion.com/nuclear-bom...   \n",
       "16  https://www.theonion.com/cosby-lawyer-asks-why...   \n",
       "\n",
       "                                             headline  is_sarcastic  \n",
       "2   mom starting to fear son's web series closest ...             1  \n",
       "3   boehner just wants wife to listen, not come up...             1  \n",
       "8   top snake handler leaves sinking huckabee camp...             1  \n",
       "15  nuclear bomb detonates during rehearsal for 's...             1  \n",
       "16  cosby lawyer asks why accusers didn't come for...             1  "
      ]
     },
     "execution_count": 64,
     "metadata": {},
     "output_type": "execute_result"
    }
   ],
   "source": [
    "dataset_sarcasmo = dataset.query('is_sarcastic==1')\n",
    "dataset_sarcasmo.head()"
   ]
  },
  {
   "cell_type": "code",
   "execution_count": 65,
   "metadata": {
    "ExecuteTime": {
     "end_time": "2020-09-12T14:59:04.858953Z",
     "start_time": "2020-09-12T14:59:04.335120Z"
    },
    "colab": {},
    "colab_type": "code",
    "id": "-wFUbdoh59sn"
   },
   "outputs": [],
   "source": [
    "todos_titulares_sarcasmo = []\n",
    "#regla=r'[\\d.,]+|[A-Z][.A-Z]+\\b\\.*|\\w+|\\S'\n",
    "regla='\\w+'\n",
    "#regla seria la expresión regular\n",
    "for i in range(dataset_sarcasmo.shape[0]):\n",
    "    titular = dataset_sarcasmo.headline.iloc[i]  # seleccionar el titular\n",
    "    titular = nltk.RegexpTokenizer(regla).tokenize(titular)  # Tokenizar con RegexpTokenizer\n",
    "    titular = [i for i in titular if i not in stopwords]  # Filtrar por stopwords\n",
    "    todos_titulares_sarcasmo.append(titular) # agregar el resultado a la lista\n",
    "    #guarda todos los titulares con sarcasmo"
   ]
  },
  {
   "cell_type": "code",
   "execution_count": 66,
   "metadata": {
    "ExecuteTime": {
     "end_time": "2020-09-12T14:59:04.905953Z",
     "start_time": "2020-09-12T14:59:04.860951Z"
    },
    "colab": {},
    "colab_type": "code",
    "id": "SygBBtyk59sq"
   },
   "outputs": [
    {
     "data": {
      "text/plain": [
       "['mom',\n",
       " 'starting',\n",
       " 'fear',\n",
       " 'son',\n",
       " 'web',\n",
       " 'series',\n",
       " 'closest',\n",
       " 'thing',\n",
       " 'grandchild',\n",
       " 'boehner',\n",
       " 'wants',\n",
       " 'wife',\n",
       " 'listen',\n",
       " 'come',\n",
       " 'alternative',\n",
       " 'debt',\n",
       " 'reduction',\n",
       " 'ideas',\n",
       " 'top',\n",
       " 'snake',\n",
       " 'handler',\n",
       " 'leaves',\n",
       " 'sinking',\n",
       " 'huckabee',\n",
       " 'campaign',\n",
       " 'nuclear',\n",
       " 'bomb',\n",
       " 'detonates',\n",
       " 'rehearsal',\n",
       " 'spider',\n",
       " 'man',\n",
       " 'musical',\n",
       " 'cosby',\n",
       " 'lawyer',\n",
       " 'asks',\n",
       " 'accusers',\n",
       " 'come',\n",
       " 'forward',\n",
       " 'smeared',\n",
       " 'legal',\n",
       " 'team',\n",
       " 'years',\n",
       " 'ago',\n",
       " 'stock',\n",
       " 'analysts',\n",
       " 'confused',\n",
       " 'frightened',\n",
       " 'boar',\n",
       " 'market',\n",
       " 'courtroom',\n",
       " 'sketch',\n",
       " 'artist',\n",
       " 'clear',\n",
       " 'manga',\n",
       " 'influences',\n",
       " 'trump',\n",
       " 'assures',\n",
       " 'nation',\n",
       " 'decision',\n",
       " 'syrian',\n",
       " 'airstrikes',\n",
       " 'came',\n",
       " 'carefully',\n",
       " 'considering',\n",
       " 'passing',\n",
       " 'whims',\n",
       " 'ex',\n",
       " 'con',\n",
       " 'back',\n",
       " 'behind',\n",
       " 'bar',\n",
       " 'careful',\n",
       " 'consideration',\n",
       " 'bush',\n",
       " 'recommends',\n",
       " 'oil',\n",
       " 'drilling',\n",
       " 'giant',\n",
       " 'altoid',\n",
       " 'heading',\n",
       " 'toward',\n",
       " 'earth',\n",
       " 'robin',\n",
       " 'williams',\n",
       " 'inflicted',\n",
       " 'holiday',\n",
       " 'moviegoers',\n",
       " 'eighth',\n",
       " 'straight',\n",
       " 'year',\n",
       " 'rescuers',\n",
       " 'heroically',\n",
       " 'help',\n",
       " 'beached',\n",
       " 'garbage',\n",
       " 'back',\n",
       " 'ocean',\n",
       " 'christian',\n",
       " 'bale',\n",
       " 'visits',\n",
       " 'sikh',\n",
       " 'temple',\n",
       " 'victims',\n",
       " 'right',\n",
       " 'live',\n",
       " 'life',\n",
       " 'complete',\n",
       " 'stunned',\n",
       " 'horror',\n",
       " 'added',\n",
       " 'constitution',\n",
       " 'nasa',\n",
       " 'almost',\n",
       " 'positive',\n",
       " 'mars',\n",
       " 'rocky',\n",
       " 'monster',\n",
       " 'undeterred',\n",
       " 'night',\n",
       " 'light',\n",
       " 'longtime',\n",
       " 'teacher',\n",
       " 'retires',\n",
       " 'without',\n",
       " 'changing',\n",
       " 'single',\n",
       " 'student',\n",
       " 'life',\n",
       " 'new',\n",
       " 'star',\n",
       " 'wars',\n",
       " 'film',\n",
       " 'disappoints',\n",
       " 'die',\n",
       " 'hard',\n",
       " 'nien',\n",
       " 'nunb',\n",
       " 'fans',\n",
       " 'bats',\n",
       " 'shooed',\n",
       " 'nation',\n",
       " 'waterslide',\n",
       " 'tunnels',\n",
       " 'preparation',\n",
       " 'summer',\n",
       " 'mobile',\n",
       " 'news',\n",
       " 'crew',\n",
       " 'reports',\n",
       " 'van',\n",
       " 'breaking',\n",
       " 'obama',\n",
       " 'colorado',\n",
       " 'appraised',\n",
       " 'trouble',\n",
       " 'tv',\n",
       " 'africa',\n",
       " 'brita',\n",
       " 'unveils',\n",
       " 'new',\n",
       " 'throat',\n",
       " 'water',\n",
       " 'filters',\n",
       " 'report',\n",
       " 'john',\n",
       " 'grisham',\n",
       " 'slowly',\n",
       " 'surely',\n",
       " 'climbing',\n",
       " 'list',\n",
       " 'greatest',\n",
       " 'living',\n",
       " 'american',\n",
       " 'authors',\n",
       " 'ghost',\n",
       " 'make',\n",
       " 'simple',\n",
       " 'cup',\n",
       " 'coffee',\n",
       " 'without',\n",
       " 'everyone',\n",
       " 'freaking',\n",
       " 'tupperware',\n",
       " 'never',\n",
       " 'truly',\n",
       " 'recover',\n",
       " 'red',\n",
       " 'curry',\n",
       " 'leftovers',\n",
       " 'area',\n",
       " 'woman',\n",
       " 'said',\n",
       " 'sorry',\n",
       " '118',\n",
       " 'times',\n",
       " 'yesterday',\n",
       " 'north',\n",
       " 'dakota',\n",
       " 'heard',\n",
       " '48',\n",
       " 'hours',\n",
       " 'sick',\n",
       " 'fucks',\n",
       " 'line',\n",
       " 'gape',\n",
       " 'dead',\n",
       " 'body',\n",
       " 'breast',\n",
       " 'implants',\n",
       " 'found',\n",
       " 'cause',\n",
       " 'problems',\n",
       " 'laboratory',\n",
       " 'mice',\n",
       " 'ceo',\n",
       " 'funeral',\n",
       " 'networking',\n",
       " 'dream',\n",
       " 'sonny',\n",
       " 'bono',\n",
       " 'foundation',\n",
       " 'prevents',\n",
       " 'risk',\n",
       " 'youths',\n",
       " 'skiing',\n",
       " 'trees',\n",
       " '6',\n",
       " 'year',\n",
       " 'old',\n",
       " 'cries',\n",
       " 'told',\n",
       " 'mtm',\n",
       " 'productions',\n",
       " 'kitten',\n",
       " 'dead',\n",
       " 'ex',\n",
       " 'boyfriend',\n",
       " 'thought',\n",
       " 'check',\n",
       " 'throw',\n",
       " 'entire',\n",
       " 'day',\n",
       " 'doctors',\n",
       " 'restore',\n",
       " 'ken',\n",
       " 'burns',\n",
       " 'full',\n",
       " 'color',\n",
       " 'vision',\n",
       " 'removing',\n",
       " 'massive',\n",
       " 'tumor',\n",
       " 'filmmaker',\n",
       " 'visual',\n",
       " 'cortex',\n",
       " 'must',\n",
       " 'make',\n",
       " 'sure',\n",
       " 'skills',\n",
       " 'please',\n",
       " 'grandson',\n",
       " 'says',\n",
       " 'queen',\n",
       " 'elizabeth',\n",
       " 'disrobing',\n",
       " 'meghan',\n",
       " 'markle',\n",
       " 'man',\n",
       " 'visiting',\n",
       " 'hometown',\n",
       " 'amazed',\n",
       " 'find',\n",
       " 'childhood',\n",
       " 'insecurities',\n",
       " 'still',\n",
       " 'clinton',\n",
       " 'becomes',\n",
       " 'first',\n",
       " 'president',\n",
       " 'clear',\n",
       " '18',\n",
       " 'feet',\n",
       " 'pole',\n",
       " 'vault',\n",
       " 'hunter',\n",
       " 'thompson',\n",
       " 'shoots',\n",
       " 'mouth',\n",
       " 'one',\n",
       " 'last',\n",
       " 'time',\n",
       " 'jealous',\n",
       " 'gps',\n",
       " 'clearly',\n",
       " 'wants',\n",
       " 'man',\n",
       " 'back',\n",
       " 'wife',\n",
       " 'l',\n",
       " 'grants',\n",
       " 'clippers',\n",
       " '12',\n",
       " 'new',\n",
       " 'nets',\n",
       " 'café',\n",
       " 'adds',\n",
       " 'heartbreaking',\n",
       " 'little',\n",
       " 'lunch',\n",
       " 'menu',\n",
       " 'whale',\n",
       " 'regrets',\n",
       " 'eating',\n",
       " '290',\n",
       " '000',\n",
       " 'plastic',\n",
       " 'poker',\n",
       " 'chips',\n",
       " 'fell',\n",
       " 'container',\n",
       " 'ship',\n",
       " 'late',\n",
       " 'audition',\n",
       " 'asks',\n",
       " 'perfect',\n",
       " 'actor',\n",
       " 'role',\n",
       " 'poking',\n",
       " 'head',\n",
       " 'room',\n",
       " 'producers',\n",
       " 'giving',\n",
       " 'hope',\n",
       " 'robert',\n",
       " 'de',\n",
       " 'niro',\n",
       " 'turn',\n",
       " '58',\n",
       " 'movie',\n",
       " 'role',\n",
       " 'take',\n",
       " 'slow',\n",
       " 'fine',\n",
       " 'drunk',\n",
       " 'driver',\n",
       " 'assures',\n",
       " 'self',\n",
       " 'speeding',\n",
       " 'away',\n",
       " 'stolen',\n",
       " 'police',\n",
       " 'car',\n",
       " 'paul',\n",
       " 'newman',\n",
       " 'dies',\n",
       " 'consuming',\n",
       " '51',\n",
       " 'hard',\n",
       " 'boiled',\n",
       " 'eggs',\n",
       " 'yak',\n",
       " 'chews',\n",
       " 'thoughtfully',\n",
       " 'man',\n",
       " 'worried',\n",
       " 'drug',\n",
       " 'dealer',\n",
       " 'picking',\n",
       " 'phone',\n",
       " 'dad',\n",
       " 'recommends',\n",
       " 'hotel',\n",
       " '10',\n",
       " 'miles',\n",
       " 'away',\n",
       " 'city',\n",
       " 'visiting',\n",
       " 'southern',\n",
       " 'comfort',\n",
       " 'comforts',\n",
       " 'southerner',\n",
       " 'chubby',\n",
       " 'jewish',\n",
       " 'boy',\n",
       " 'dreams',\n",
       " 'one',\n",
       " 'day',\n",
       " 'next',\n",
       " 'apatow',\n",
       " 'muse',\n",
       " 'family',\n",
       " 'chooses',\n",
       " 'different',\n",
       " 'dog',\n",
       " 'reincarnated',\n",
       " 'grandfather',\n",
       " 'fan',\n",
       " 'disappointed',\n",
       " 'learn',\n",
       " 'l',\n",
       " 'ron',\n",
       " 'hubbard',\n",
       " 'scientologist',\n",
       " 'marriage',\n",
       " 'breaks',\n",
       " 'procreative',\n",
       " 'differences',\n",
       " 'fox',\n",
       " 'news',\n",
       " 'problem',\n",
       " 'solvers',\n",
       " 'way',\n",
       " 'heads',\n",
       " 'bashar',\n",
       " 'al',\n",
       " 'assad',\n",
       " 'tries',\n",
       " 'tiny',\n",
       " 'bit',\n",
       " 'sarin',\n",
       " 'gas',\n",
       " 'self',\n",
       " 'see',\n",
       " 'like',\n",
       " 'teacher',\n",
       " 'bitches',\n",
       " 'paycheck',\n",
       " 'sixth',\n",
       " 'grade',\n",
       " 'class',\n",
       " 'area',\n",
       " 'insurance',\n",
       " 'salesman',\n",
       " 'celebrates',\n",
       " '14th',\n",
       " 'year',\n",
       " 'quoting',\n",
       " 'fletch',\n",
       " 'friends',\n",
       " 'always',\n",
       " 'best',\n",
       " 'behavior',\n",
       " 'around',\n",
       " 'neil',\n",
       " 'labute',\n",
       " 'man',\n",
       " 'vows',\n",
       " 'never',\n",
       " 'watch',\n",
       " 'another',\n",
       " 'sci',\n",
       " 'fi',\n",
       " 'movie',\n",
       " 'physicist',\n",
       " 'friend',\n",
       " 'biologists',\n",
       " 'announce',\n",
       " 'done',\n",
       " 'rodents',\n",
       " 'new',\n",
       " 'movie',\n",
       " 'taps',\n",
       " 'nation',\n",
       " 'love',\n",
       " 'rapping',\n",
       " 'kangaroos',\n",
       " 'newspaper',\n",
       " 'starting',\n",
       " 'worry',\n",
       " 'spending',\n",
       " 'much',\n",
       " 'time',\n",
       " 'facebook',\n",
       " 'healthy',\n",
       " 'vatican',\n",
       " 'putting',\n",
       " 'feelers',\n",
       " 'public',\n",
       " 'would',\n",
       " 'react',\n",
       " 'another',\n",
       " 'children',\n",
       " 'crusade',\n",
       " 'trump',\n",
       " 'makes',\n",
       " 'last',\n",
       " 'minute',\n",
       " 'push',\n",
       " 'appeal',\n",
       " 'whites',\n",
       " 'child',\n",
       " 'fondest',\n",
       " 'memories',\n",
       " 'times',\n",
       " 'dad',\n",
       " 'trying',\n",
       " 'make',\n",
       " 'things',\n",
       " 'man',\n",
       " 'failing',\n",
       " 'heed',\n",
       " 'harsh',\n",
       " 'lessons',\n",
       " 'past',\n",
       " 'orders',\n",
       " 'sonic',\n",
       " 'bacon',\n",
       " 'cheeseburger',\n",
       " 'toaster',\n",
       " 'ken',\n",
       " 'burns',\n",
       " 'completes',\n",
       " 'documentary',\n",
       " 'fucking',\n",
       " 'liars',\n",
       " 'claimed',\n",
       " 'watched',\n",
       " 'entire',\n",
       " 'jazz',\n",
       " 'series',\n",
       " 'magic',\n",
       " 'markered',\n",
       " 'initials',\n",
       " 'fail',\n",
       " 'deter',\n",
       " 'breakroom',\n",
       " 'rice',\n",
       " 'cake',\n",
       " 'thief',\n",
       " 'god',\n",
       " 'humbled',\n",
       " 'answer',\n",
       " 'jeopardy',\n",
       " 'clue',\n",
       " 'female',\n",
       " 'barista',\n",
       " 'getting',\n",
       " 'lot',\n",
       " 'better',\n",
       " 'avoiding',\n",
       " 'touching',\n",
       " 'male',\n",
       " 'patrons',\n",
       " 'hands',\n",
       " 'pay',\n",
       " 'couple',\n",
       " 'point',\n",
       " 'comfortable',\n",
       " 'using',\n",
       " 'toilet',\n",
       " 'time',\n",
       " 'scalia',\n",
       " 'goes',\n",
       " 'abortion',\n",
       " 'bender',\n",
       " 'passed',\n",
       " 'chief',\n",
       " 'justice',\n",
       " 'campbell',\n",
       " 'unveils',\n",
       " 'one',\n",
       " 'big',\n",
       " 'sized',\n",
       " 'noodle',\n",
       " 'area',\n",
       " 'man',\n",
       " 'going',\n",
       " 'finish',\n",
       " 'fries',\n",
       " 'restaurant',\n",
       " 'eating',\n",
       " 'challenge',\n",
       " 'rewards',\n",
       " 'patron',\n",
       " 'consume',\n",
       " 'reasonably',\n",
       " 'portioned',\n",
       " 'meal',\n",
       " 'fun',\n",
       " 'sticker',\n",
       " 'placed',\n",
       " 'child',\n",
       " 'ventilator',\n",
       " 'one',\n",
       " 'mcdonald',\n",
       " 'plate',\n",
       " '70s',\n",
       " 'holy',\n",
       " 'shit',\n",
       " 'modern',\n",
       " 'day',\n",
       " 'lancelot',\n",
       " 'offers',\n",
       " 'pay',\n",
       " 'abortion',\n",
       " 'united',\n",
       " 'airlines',\n",
       " 'offering',\n",
       " 'immigrants',\n",
       " 'special',\n",
       " 'flights',\n",
       " 'circle',\n",
       " 'u',\n",
       " 'awaiting',\n",
       " 'gaps',\n",
       " 'travel',\n",
       " 'ban',\n",
       " 'sun',\n",
       " 'thinking',\n",
       " 'collapsing',\n",
       " 'getting',\n",
       " 'trump',\n",
       " 'retweets',\n",
       " 'video',\n",
       " 'anti',\n",
       " 'muslim',\n",
       " 'hate',\n",
       " 'group',\n",
       " 'long',\n",
       " 'silent',\n",
       " 'facebook',\n",
       " 'friend',\n",
       " 'comes',\n",
       " 'woodwork',\n",
       " 'post',\n",
       " 'asking',\n",
       " 'insulating',\n",
       " 'windows',\n",
       " 'struggling',\n",
       " 'airline',\n",
       " 'helped',\n",
       " 'friendly',\n",
       " 'giant',\n",
       " 'unemployed',\n",
       " 'sibling',\n",
       " 'makes',\n",
       " 'last',\n",
       " 'push',\n",
       " 'group',\n",
       " 'mother',\n",
       " 'day',\n",
       " 'gift',\n",
       " '3822',\n",
       " 'voted',\n",
       " 'america',\n",
       " 'favorite',\n",
       " 'pin',\n",
       " 'number',\n",
       " 'mark',\n",
       " 'zuckerberg',\n",
       " 'cited',\n",
       " 'contempt',\n",
       " 'congress',\n",
       " 'refusing',\n",
       " 'shut',\n",
       " 'fuck',\n",
       " 'started',\n",
       " 'company',\n",
       " 'dorm',\n",
       " 'room',\n",
       " 'dsm',\n",
       " '5',\n",
       " 'updated',\n",
       " 'accommodate',\n",
       " 'man',\n",
       " 'legitimately',\n",
       " 'ordered',\n",
       " 'kill',\n",
       " 'moon',\n",
       " 'purina',\n",
       " 'debuts',\n",
       " 'new',\n",
       " 'slovenly',\n",
       " 'feast',\n",
       " 'nasty',\n",
       " 'ass',\n",
       " 'shelter',\n",
       " 'cats',\n",
       " 'frontier',\n",
       " 'airlines',\n",
       " 'tells',\n",
       " 'customers',\n",
       " 'fucking',\n",
       " 'deal',\n",
       " 'everyone',\n",
       " 'forgets',\n",
       " 'bring',\n",
       " 'swimsuits',\n",
       " 'coworker',\n",
       " 'party',\n",
       " 'new',\n",
       " 'york',\n",
       " 'times',\n",
       " 'adds',\n",
       " 'color',\n",
       " 'target',\n",
       " '70',\n",
       " 'demographic',\n",
       " 'girl',\n",
       " 'scouts',\n",
       " 'rocked',\n",
       " 'cookies',\n",
       " 'cash',\n",
       " 'fundraising',\n",
       " 'scandal',\n",
       " 'christian',\n",
       " 'juggler',\n",
       " 'regrets',\n",
       " 'years',\n",
       " 'wasted',\n",
       " 'secular',\n",
       " 'juggler',\n",
       " 'man',\n",
       " 'everything',\n",
       " 'last',\n",
       " 'minute',\n",
       " 'wonders',\n",
       " 'conrad',\n",
       " 'bain',\n",
       " 'steps',\n",
       " 'national',\n",
       " 'kitsch',\n",
       " 'reference',\n",
       " 'laureate',\n",
       " 'nasa',\n",
       " 'inadvertently',\n",
       " 'launches',\n",
       " 'unmanned',\n",
       " 'space',\n",
       " 'shuttle',\n",
       " 'new',\n",
       " 'instant',\n",
       " 'lottery',\n",
       " 'game',\n",
       " 'features',\n",
       " 'three',\n",
       " 'ways',\n",
       " 'win',\n",
       " '19',\n",
       " '839',\n",
       " '947',\n",
       " 'ways',\n",
       " 'lose',\n",
       " 'podcast',\n",
       " 'cry',\n",
       " 'help',\n",
       " 'clairvoyant',\n",
       " 'vince',\n",
       " 'vaughn',\n",
       " 'accepts',\n",
       " 'movie',\n",
       " 'role',\n",
       " 'offered',\n",
       " 'melania',\n",
       " 'trump',\n",
       " 'hangs',\n",
       " 'decayed',\n",
       " 'badger',\n",
       " 'carcass',\n",
       " 'white',\n",
       " 'house',\n",
       " 'mantel',\n",
       " 'finish',\n",
       " 'traditional',\n",
       " 'slovenian',\n",
       " 'christmas',\n",
       " 'decor',\n",
       " 'woman',\n",
       " 'admits',\n",
       " 'watched',\n",
       " 'golden',\n",
       " 'globes',\n",
       " 'thinks',\n",
       " 'jodie',\n",
       " 'foster',\n",
       " 'embarrassed',\n",
       " 'bush',\n",
       " 'increasingly',\n",
       " 'focused',\n",
       " 'revisionist',\n",
       " 'history',\n",
       " 'see',\n",
       " 'rest',\n",
       " 'evening',\n",
       " 'spent',\n",
       " 'declaring',\n",
       " 'asshole',\n",
       " 'going',\n",
       " 'ruin',\n",
       " 'evening',\n",
       " 'hooded',\n",
       " 'members',\n",
       " 'congress',\n",
       " 'drown',\n",
       " 'another',\n",
       " 'love',\n",
       " 'child',\n",
       " 'potomac',\n",
       " 'prevent',\n",
       " 'affair',\n",
       " 'getting',\n",
       " 'alcoholic',\n",
       " 'kindergarten',\n",
       " 'teacher',\n",
       " 'stretches',\n",
       " 'naptime',\n",
       " 'three',\n",
       " 'hours',\n",
       " 'report',\n",
       " 'store',\n",
       " 'good',\n",
       " 'kind',\n",
       " 'grandmother',\n",
       " 'palms',\n",
       " 'grandson',\n",
       " '10',\n",
       " 'like',\n",
       " 'fixing',\n",
       " 'boxing',\n",
       " 'match',\n",
       " 'bumper',\n",
       " 'nilla',\n",
       " 'crop',\n",
       " 'spells',\n",
       " 'profit',\n",
       " 'wafer',\n",
       " 'growers',\n",
       " 'national',\n",
       " 'trust',\n",
       " 'historic',\n",
       " 'preservation',\n",
       " 'pay',\n",
       " 'andy',\n",
       " 'rooney',\n",
       " 'upkeep',\n",
       " 'list',\n",
       " 'names',\n",
       " 'gchat',\n",
       " 'sidebar',\n",
       " 'like',\n",
       " 'portal',\n",
       " 'area',\n",
       " 'man',\n",
       " 'past',\n",
       " 'lives',\n",
       " 'study',\n",
       " 'couples',\n",
       " 'delaying',\n",
       " 'divorce',\n",
       " 'kids',\n",
       " 'old',\n",
       " 'enough',\n",
       " 'remember',\n",
       " 'every',\n",
       " 'painful',\n",
       " 'detail',\n",
       " 'never',\n",
       " 'heard',\n",
       " 'buzzword',\n",
       " 'flying',\n",
       " 'around',\n",
       " 'office',\n",
       " 'good',\n",
       " 'man',\n",
       " 'certain',\n",
       " 'coworkers',\n",
       " 'names',\n",
       " 'clinton',\n",
       " 'receives',\n",
       " '400',\n",
       " '000',\n",
       " 'honorary',\n",
       " 'degrees',\n",
       " 'college',\n",
       " 'commencement',\n",
       " 'speech',\n",
       " 'scavenger',\n",
       " 'hunt',\n",
       " 'party',\n",
       " 'leaving',\n",
       " 'without',\n",
       " 'twine',\n",
       " 'final',\n",
       " 'german',\n",
       " 'u',\n",
       " 'boat',\n",
       " 'surrenders',\n",
       " 'allied',\n",
       " 'powers',\n",
       " 'woman',\n",
       " 'head',\n",
       " 'feared',\n",
       " 'lost',\n",
       " 'forever',\n",
       " 'inside',\n",
       " 'infinity',\n",
       " 'scarf',\n",
       " 'fed',\n",
       " 'brookstone',\n",
       " 'body',\n",
       " 'massage',\n",
       " 'chair',\n",
       " 'entertaining',\n",
       " 'serious',\n",
       " 'buyers',\n",
       " 'trump',\n",
       " 'asks',\n",
       " 'entire',\n",
       " 'senate',\n",
       " 'clear',\n",
       " 'chamber',\n",
       " 'speak',\n",
       " 'comey',\n",
       " 'alone',\n",
       " 'new',\n",
       " 'report',\n",
       " 'finds',\n",
       " 'americans',\n",
       " 'interested',\n",
       " 'science',\n",
       " 'moon',\n",
       " 'looks',\n",
       " 'different',\n",
       " 'usual',\n",
       " 'new',\n",
       " 'york',\n",
       " 'times',\n",
       " 'moves',\n",
       " 'content',\n",
       " 'give',\n",
       " 'shit',\n",
       " 'unless',\n",
       " 'make',\n",
       " 'least',\n",
       " '200k',\n",
       " 'year',\n",
       " 'one',\n",
       " 'convenient',\n",
       " 'section',\n",
       " 'chicago',\n",
       " 'police',\n",
       " 'department',\n",
       " 'monitor',\n",
       " 'interactions',\n",
       " 'public',\n",
       " 'using',\n",
       " 'new',\n",
       " 'bullet',\n",
       " 'cams',\n",
       " 'weird',\n",
       " 'black',\n",
       " 'dot',\n",
       " 'actually',\n",
       " 'part',\n",
       " 'bowl',\n",
       " 'fcc',\n",
       " 'sentences',\n",
       " 'artie',\n",
       " 'lange',\n",
       " 'death',\n",
       " 'new',\n",
       " 'job',\n",
       " 'posting',\n",
       " 'craigslist',\n",
       " 'clearly',\n",
       " 'secretary',\n",
       " 'interior',\n",
       " 'fcc',\n",
       " 'assures',\n",
       " 'nation',\n",
       " 'favorite',\n",
       " 'verizon',\n",
       " 'websites',\n",
       " 'affected',\n",
       " 'net',\n",
       " 'neutrality',\n",
       " 'repeal',\n",
       " 'report',\n",
       " 'still',\n",
       " 'nowhere',\n",
       " 'near',\n",
       " 'okay',\n",
       " 'act',\n",
       " 'like',\n",
       " 'donald',\n",
       " 'trump',\n",
       " 'white',\n",
       " 'sprinter',\n",
       " 'finishes',\n",
       " 'fifth',\n",
       " 'obama',\n",
       " 'begins',\n",
       " 'inauguration',\n",
       " 'festivities',\n",
       " 'ceremonial',\n",
       " 'drone',\n",
       " 'flyover',\n",
       " 'lindsay',\n",
       " 'wagner',\n",
       " 'star',\n",
       " ...]"
      ]
     },
     "execution_count": 66,
     "metadata": {},
     "output_type": "execute_result"
    }
   ],
   "source": [
    "# Esta celda convierte una lista de listas en una unica lista\n",
    "todos_titulares_sarcasmo = list(itertools.chain(*todos_titulares_sarcasmo))\n",
    "todos_titulares_sarcasmo"
   ]
  },
  {
   "cell_type": "code",
   "execution_count": 67,
   "metadata": {
    "ExecuteTime": {
     "end_time": "2020-09-12T14:59:04.984959Z",
     "start_time": "2020-09-12T14:59:04.906954Z"
    },
    "colab": {},
    "colab_type": "code",
    "id": "uywobaJF59ss"
   },
   "outputs": [
    {
     "data": {
      "text/plain": [
       "FreqDist({'man': 1154, 'new': 843, 'area': 480, 'report': 426, 'nation': 339, 'woman': 319, 'year': 308, 'one': 273, 'old': 267, 'time': 252, ...})"
      ]
     },
     "execution_count": 67,
     "metadata": {},
     "output_type": "execute_result"
    }
   ],
   "source": [
    "#FreqDist\n",
    "freq_sarcasmo = nltk.FreqDist(todos_titulares_sarcasmo)\n",
    "freq_sarcasmo"
   ]
  },
  {
   "cell_type": "code",
   "execution_count": 68,
   "metadata": {
    "ExecuteTime": {
     "end_time": "2020-09-12T14:59:05.031963Z",
     "start_time": "2020-09-12T14:59:04.987963Z"
    },
    "colab": {},
    "colab_type": "code",
    "id": "6FSIe5sd59su"
   },
   "outputs": [
    {
     "data": {
      "text/html": [
       "<div>\n",
       "<style scoped>\n",
       "    .dataframe tbody tr th:only-of-type {\n",
       "        vertical-align: middle;\n",
       "    }\n",
       "\n",
       "    .dataframe tbody tr th {\n",
       "        vertical-align: top;\n",
       "    }\n",
       "\n",
       "    .dataframe thead th {\n",
       "        text-align: right;\n",
       "    }\n",
       "</style>\n",
       "<table border=\"1\" class=\"dataframe\">\n",
       "  <thead>\n",
       "    <tr style=\"text-align: right;\">\n",
       "      <th></th>\n",
       "      <th>word</th>\n",
       "      <th>Frequency</th>\n",
       "    </tr>\n",
       "  </thead>\n",
       "  <tbody>\n",
       "    <tr>\n",
       "      <th>0</th>\n",
       "      <td>mom</td>\n",
       "      <td>117</td>\n",
       "    </tr>\n",
       "    <tr>\n",
       "      <th>1</th>\n",
       "      <td>starting</td>\n",
       "      <td>32</td>\n",
       "    </tr>\n",
       "    <tr>\n",
       "      <th>2</th>\n",
       "      <td>fear</td>\n",
       "      <td>16</td>\n",
       "    </tr>\n",
       "    <tr>\n",
       "      <th>3</th>\n",
       "      <td>son</td>\n",
       "      <td>71</td>\n",
       "    </tr>\n",
       "    <tr>\n",
       "      <th>4</th>\n",
       "      <td>web</td>\n",
       "      <td>7</td>\n",
       "    </tr>\n",
       "  </tbody>\n",
       "</table>\n",
       "</div>"
      ],
      "text/plain": [
       "       word  Frequency\n",
       "0       mom        117\n",
       "1  starting         32\n",
       "2      fear         16\n",
       "3       son         71\n",
       "4       web          7"
      ]
     },
     "execution_count": 68,
     "metadata": {},
     "output_type": "execute_result"
    }
   ],
   "source": [
    "#pasamos a dataframe las palabras y frecuencia\n",
    "df_sarcasmo = pd.DataFrame(freq_sarcasmo.items(),columns=['word','Frequency'])\n",
    "df_sarcasmo.head()"
   ]
  },
  {
   "cell_type": "code",
   "execution_count": 69,
   "metadata": {
    "ExecuteTime": {
     "end_time": "2020-09-12T14:59:05.063967Z",
     "start_time": "2020-09-12T14:59:05.033965Z"
    },
    "colab": {},
    "colab_type": "code",
    "id": "xeQcC1gh59sx"
   },
   "outputs": [
    {
     "data": {
      "text/html": [
       "<div>\n",
       "<style scoped>\n",
       "    .dataframe tbody tr th:only-of-type {\n",
       "        vertical-align: middle;\n",
       "    }\n",
       "\n",
       "    .dataframe tbody tr th {\n",
       "        vertical-align: top;\n",
       "    }\n",
       "\n",
       "    .dataframe thead th {\n",
       "        text-align: right;\n",
       "    }\n",
       "</style>\n",
       "<table border=\"1\" class=\"dataframe\">\n",
       "  <thead>\n",
       "    <tr style=\"text-align: right;\">\n",
       "      <th></th>\n",
       "      <th>word</th>\n",
       "      <th>Frequency</th>\n",
       "    </tr>\n",
       "  </thead>\n",
       "  <tbody>\n",
       "    <tr>\n",
       "      <th>30</th>\n",
       "      <td>man</td>\n",
       "      <td>1154</td>\n",
       "    </tr>\n",
       "    <tr>\n",
       "      <th>125</th>\n",
       "      <td>new</td>\n",
       "      <td>843</td>\n",
       "    </tr>\n",
       "    <tr>\n",
       "      <th>183</th>\n",
       "      <td>area</td>\n",
       "      <td>480</td>\n",
       "    </tr>\n",
       "    <tr>\n",
       "      <th>158</th>\n",
       "      <td>report</td>\n",
       "      <td>426</td>\n",
       "    </tr>\n",
       "    <tr>\n",
       "      <th>56</th>\n",
       "      <td>nation</td>\n",
       "      <td>339</td>\n",
       "    </tr>\n",
       "  </tbody>\n",
       "</table>\n",
       "</div>"
      ],
      "text/plain": [
       "       word  Frequency\n",
       "30      man       1154\n",
       "125     new        843\n",
       "183    area        480\n",
       "158  report        426\n",
       "56   nation        339"
      ]
     },
     "execution_count": 69,
     "metadata": {},
     "output_type": "execute_result"
    }
   ],
   "source": [
    "# ordenar por frecuencia\n",
    "df_sarcasmo.sort_values('Frequency',inplace=True,ascending=False)\n",
    "df_sarcasmo.head()"
   ]
  },
  {
   "cell_type": "code",
   "execution_count": 70,
   "metadata": {
    "ExecuteTime": {
     "end_time": "2020-09-12T14:59:05.078969Z",
     "start_time": "2020-09-12T14:59:05.066969Z"
    },
    "colab": {},
    "colab_type": "code",
    "id": "gzQteUP159s0"
   },
   "outputs": [
    {
     "data": {
      "text/html": [
       "<div>\n",
       "<style scoped>\n",
       "    .dataframe tbody tr th:only-of-type {\n",
       "        vertical-align: middle;\n",
       "    }\n",
       "\n",
       "    .dataframe tbody tr th {\n",
       "        vertical-align: top;\n",
       "    }\n",
       "\n",
       "    .dataframe thead th {\n",
       "        text-align: right;\n",
       "    }\n",
       "</style>\n",
       "<table border=\"1\" class=\"dataframe\">\n",
       "  <thead>\n",
       "    <tr style=\"text-align: right;\">\n",
       "      <th></th>\n",
       "      <th>word</th>\n",
       "      <th>Frequency</th>\n",
       "    </tr>\n",
       "  </thead>\n",
       "  <tbody>\n",
       "    <tr>\n",
       "      <th>0</th>\n",
       "      <td>man</td>\n",
       "      <td>1154</td>\n",
       "    </tr>\n",
       "    <tr>\n",
       "      <th>1</th>\n",
       "      <td>new</td>\n",
       "      <td>843</td>\n",
       "    </tr>\n",
       "    <tr>\n",
       "      <th>2</th>\n",
       "      <td>area</td>\n",
       "      <td>480</td>\n",
       "    </tr>\n",
       "    <tr>\n",
       "      <th>3</th>\n",
       "      <td>report</td>\n",
       "      <td>426</td>\n",
       "    </tr>\n",
       "    <tr>\n",
       "      <th>4</th>\n",
       "      <td>nation</td>\n",
       "      <td>339</td>\n",
       "    </tr>\n",
       "  </tbody>\n",
       "</table>\n",
       "</div>"
      ],
      "text/plain": [
       "     word  Frequency\n",
       "0     man       1154\n",
       "1     new        843\n",
       "2    area        480\n",
       "3  report        426\n",
       "4  nation        339"
      ]
     },
     "execution_count": 70,
     "metadata": {},
     "output_type": "execute_result"
    }
   ],
   "source": [
    "#ordena los indices del dataframe\n",
    "df_sarcasmo.reset_index(drop = True, inplace=True)\n",
    "df_sarcasmo.head()"
   ]
  },
  {
   "cell_type": "code",
   "execution_count": 71,
   "metadata": {
    "ExecuteTime": {
     "end_time": "2020-09-12T14:59:05.617008Z",
     "start_time": "2020-09-12T14:59:05.081969Z"
    },
    "colab": {},
    "colab_type": "code",
    "id": "NlYQqK_b59s2"
   },
   "outputs": [
    {
     "data": {
      "image/png": "[encoded data removed]",
      "text/plain": [
       "<Figure size 1080x576 with 1 Axes>"
      ]
     },
     "metadata": {},
     "output_type": "display_data"
    }
   ],
   "source": [
    "plt.figure(figsize=(15, 8))\n",
    "sns.barplot(x=df_sarcasmo.iloc[:30].word,\n",
    "            y=df_sarcasmo.iloc[:30].Frequency)\n",
    "\n",
    "plt.xticks(rotation=90)\n",
    "plt.show()"
   ]
  },
  {
   "cell_type": "code",
   "execution_count": 72,
   "metadata": {
    "ExecuteTime": {
     "end_time": "2020-09-12T14:59:05.632007Z",
     "start_time": "2020-09-12T14:59:05.619009Z"
    },
    "colab": {},
    "colab_type": "code",
    "id": "rUPIauqK59s4"
   },
   "outputs": [],
   "source": [
    "#no sabemos que hace\n",
    "filtrar = []\n",
    "if False:\n",
    "    filtrar.append(\"u\")\n",
    "    filtrar.append(\"new\")"
   ]
  },
  {
   "cell_type": "code",
   "execution_count": 73,
   "metadata": {
    "ExecuteTime": {
     "end_time": "2020-09-12T14:59:05.648008Z",
     "start_time": "2020-09-12T14:59:05.634011Z"
    }
   },
   "outputs": [
    {
     "data": {
      "text/plain": [
       "[]"
      ]
     },
     "execution_count": 73,
     "metadata": {},
     "output_type": "execute_result"
    }
   ],
   "source": [
    "filtrar"
   ]
  },
  {
   "cell_type": "markdown",
   "metadata": {
    "colab_type": "text",
    "id": "IDbz0ovx59s7"
   },
   "source": [
    "## 4. Stemming\n",
    "Por razones gramaticales muchas palabras pueden escribirse de manera distinta (debido a conjugación, género, número) pero tener el mismo significado para el texto. Por ejemplo si decimos \"jugar\", \"jugando\" o \"juega\", debido a como estan conjugadas, la computadora puede tratarlas como palabras distintas. Pero, en términos de significado, todas estan relacionadas al verbo Jugar. Muchas veces nos va a convenir unir todas estos términos en uno solo.\n",
    "\n",
    "Una de las manera de hacer esto es por \"STEMMING\". El Stemming es un proceso eurístico que recorta la terminación de las palabras, agrupándolas por su raiz. Reduzcamos la cantidad de palabras diferentes en nuestro dataset utilizando este proceso.\n",
    "\n",
    "a. Importar nuevamente el dataset completo"
   ]
  },
  {
   "cell_type": "code",
   "execution_count": 74,
   "metadata": {
    "ExecuteTime": {
     "end_time": "2020-09-12T14:59:05.807021Z",
     "start_time": "2020-09-12T14:59:05.650012Z"
    },
    "colab": {},
    "colab_type": "code",
    "id": "4dRui2Kf59s7",
    "scrolled": true
   },
   "outputs": [
    {
     "data": {
      "text/html": [
       "<div>\n",
       "<style scoped>\n",
       "    .dataframe tbody tr th:only-of-type {\n",
       "        vertical-align: middle;\n",
       "    }\n",
       "\n",
       "    .dataframe tbody tr th {\n",
       "        vertical-align: top;\n",
       "    }\n",
       "\n",
       "    .dataframe thead th {\n",
       "        text-align: right;\n",
       "    }\n",
       "</style>\n",
       "<table border=\"1\" class=\"dataframe\">\n",
       "  <thead>\n",
       "    <tr style=\"text-align: right;\">\n",
       "      <th></th>\n",
       "      <th>article_link</th>\n",
       "      <th>headline</th>\n",
       "      <th>is_sarcastic</th>\n",
       "    </tr>\n",
       "  </thead>\n",
       "  <tbody>\n",
       "    <tr>\n",
       "      <th>0</th>\n",
       "      <td>https://www.huffingtonpost.com/entry/versace-b...</td>\n",
       "      <td>former versace store clerk sues over secret 'b...</td>\n",
       "      <td>0</td>\n",
       "    </tr>\n",
       "    <tr>\n",
       "      <th>1</th>\n",
       "      <td>https://www.huffingtonpost.com/entry/roseanne-...</td>\n",
       "      <td>the 'roseanne' revival catches up to our thorn...</td>\n",
       "      <td>0</td>\n",
       "    </tr>\n",
       "    <tr>\n",
       "      <th>2</th>\n",
       "      <td>https://local.theonion.com/mom-starting-to-fea...</td>\n",
       "      <td>mom starting to fear son's web series closest ...</td>\n",
       "      <td>1</td>\n",
       "    </tr>\n",
       "    <tr>\n",
       "      <th>3</th>\n",
       "      <td>https://politics.theonion.com/boehner-just-wan...</td>\n",
       "      <td>boehner just wants wife to listen, not come up...</td>\n",
       "      <td>1</td>\n",
       "    </tr>\n",
       "    <tr>\n",
       "      <th>4</th>\n",
       "      <td>https://www.huffingtonpost.com/entry/jk-rowlin...</td>\n",
       "      <td>j.k. rowling wishes snape happy birthday in th...</td>\n",
       "      <td>0</td>\n",
       "    </tr>\n",
       "  </tbody>\n",
       "</table>\n",
       "</div>"
      ],
      "text/plain": [
       "                                        article_link  \\\n",
       "0  https://www.huffingtonpost.com/entry/versace-b...   \n",
       "1  https://www.huffingtonpost.com/entry/roseanne-...   \n",
       "2  https://local.theonion.com/mom-starting-to-fea...   \n",
       "3  https://politics.theonion.com/boehner-just-wan...   \n",
       "4  https://www.huffingtonpost.com/entry/jk-rowlin...   \n",
       "\n",
       "                                            headline  is_sarcastic  \n",
       "0  former versace store clerk sues over secret 'b...             0  \n",
       "1  the 'roseanne' revival catches up to our thorn...             0  \n",
       "2  mom starting to fear son's web series closest ...             1  \n",
       "3  boehner just wants wife to listen, not come up...             1  \n",
       "4  j.k. rowling wishes snape happy birthday in th...             0  "
      ]
     },
     "execution_count": 74,
     "metadata": {},
     "output_type": "execute_result"
    }
   ],
   "source": [
    "dataset = pd.read_json('Sarcasm_Headlines_Dataset.json', lines=True)\n",
    "dataset.head()"
   ]
  },
  {
   "cell_type": "markdown",
   "metadata": {
    "colab_type": "text",
    "id": "YvwAQGlp59s9"
   },
   "source": [
    "b. Tomar del `dataset` solo las columnas de interes"
   ]
  },
  {
   "cell_type": "code",
   "execution_count": 75,
   "metadata": {
    "ExecuteTime": {
     "end_time": "2020-09-12T14:59:05.839024Z",
     "start_time": "2020-09-12T14:59:05.809023Z"
    },
    "colab": {},
    "colab_type": "code",
    "id": "EdphZh0d59s-"
   },
   "outputs": [
    {
     "data": {
      "text/html": [
       "<div>\n",
       "<style scoped>\n",
       "    .dataframe tbody tr th:only-of-type {\n",
       "        vertical-align: middle;\n",
       "    }\n",
       "\n",
       "    .dataframe tbody tr th {\n",
       "        vertical-align: top;\n",
       "    }\n",
       "\n",
       "    .dataframe thead th {\n",
       "        text-align: right;\n",
       "    }\n",
       "</style>\n",
       "<table border=\"1\" class=\"dataframe\">\n",
       "  <thead>\n",
       "    <tr style=\"text-align: right;\">\n",
       "      <th></th>\n",
       "      <th>headline</th>\n",
       "      <th>is_sarcastic</th>\n",
       "    </tr>\n",
       "  </thead>\n",
       "  <tbody>\n",
       "    <tr>\n",
       "      <th>0</th>\n",
       "      <td>former versace store clerk sues over secret 'b...</td>\n",
       "      <td>0</td>\n",
       "    </tr>\n",
       "    <tr>\n",
       "      <th>1</th>\n",
       "      <td>the 'roseanne' revival catches up to our thorn...</td>\n",
       "      <td>0</td>\n",
       "    </tr>\n",
       "    <tr>\n",
       "      <th>2</th>\n",
       "      <td>mom starting to fear son's web series closest ...</td>\n",
       "      <td>1</td>\n",
       "    </tr>\n",
       "    <tr>\n",
       "      <th>3</th>\n",
       "      <td>boehner just wants wife to listen, not come up...</td>\n",
       "      <td>1</td>\n",
       "    </tr>\n",
       "    <tr>\n",
       "      <th>4</th>\n",
       "      <td>j.k. rowling wishes snape happy birthday in th...</td>\n",
       "      <td>0</td>\n",
       "    </tr>\n",
       "  </tbody>\n",
       "</table>\n",
       "</div>"
      ],
      "text/plain": [
       "                                            headline  is_sarcastic\n",
       "0  former versace store clerk sues over secret 'b...             0\n",
       "1  the 'roseanne' revival catches up to our thorn...             0\n",
       "2  mom starting to fear son's web series closest ...             1\n",
       "3  boehner just wants wife to listen, not come up...             1\n",
       "4  j.k. rowling wishes snape happy birthday in th...             0"
      ]
     },
     "execution_count": 75,
     "metadata": {},
     "output_type": "execute_result"
    }
   ],
   "source": [
    "dataset = dataset[['headline','is_sarcastic']]\n",
    "dataset.dropna(axis=0,inplace=True)  # Si hay alguna nan, tiramos esa instancia\n",
    "dataset.head()"
   ]
  },
  {
   "cell_type": "markdown",
   "metadata": {
    "colab_type": "text",
    "id": "sdS1WtcI59tA"
   },
   "source": [
    "c. Antes de realizar el proceso de Stemming, vamos a normalizar el texto de la manera que ya estuvimos viendo. Le agregamos en este caso el uso de la libreria `re`, que nos permite sacar del texto todos los caracteres que no sean palabras. Notemos que hay veces que no conviene quitar estos caracteres ya que, por ejemplo, no podremos distiguir preguntas (?) o exclamaciones (!)."
   ]
  },
  {
   "cell_type": "code",
   "execution_count": 76,
   "metadata": {
    "ExecuteTime": {
     "end_time": "2020-09-12T14:59:05.855027Z",
     "start_time": "2020-09-12T14:59:05.841024Z"
    },
    "colab": {},
    "colab_type": "code",
    "id": "dZmJ5kZn59tA"
   },
   "outputs": [],
   "source": [
    "# Importamos esta libreria que nos permite reemplzar caracteres\n",
    "import re\n",
    "\n",
    "# Importamos la función que nos permite Stemmizar de nltk y definimos el stemmer\n",
    "from nltk.stem import PorterStemmer\n",
    "stemmer = PorterStemmer()\n",
    "\n",
    "# Traemos nuevamente las stopwords\n",
    "#stopwords = nltk.COMPLETAR\n",
    "stopwords = nltk.corpus.stopwords.words('english')\n",
    "#stopwords"
   ]
  },
  {
   "cell_type": "code",
   "execution_count": 77,
   "metadata": {
    "ExecuteTime": {
     "end_time": "2020-09-12T15:00:18.622668Z",
     "start_time": "2020-09-12T15:00:10.722555Z"
    },
    "colab": {},
    "colab_type": "code",
    "id": "BVsCmqQO59tC"
   },
   "outputs": [],
   "source": [
    "# Recorremos todos los titulos y le vamos aplicando la Normalizacion y luega el Stemming a cada uno\n",
    "titular_list=[]\n",
    "for titular in dataset.headline:\n",
    "    # Vamos a reemplzar los caracteres que no sean leras por espacios\n",
    "    titular=re.sub(\"[^a-zA-Z]\",\" \",str(titular))\n",
    "    # Pasamos todo a minúsculas\n",
    "    titular=titular.lower()\n",
    "    # Tokenizamos para separar las palabras del titular\n",
    "    #titular=nltk.COMPLETAR\n",
    "    #titular = nltk.RegexpTokenizer(regla).tokenize(titular)  \n",
    "    titular = nltk.word_tokenize(titular) #nltk.word_tokenize(dataset.headline[index_random])\n",
    "    # Eliminamos las palabras de menos de 3 letras\n",
    "    titular = [palabra for palabra in titular if len(palabra)>3]\n",
    "    # Sacamos las Stopwords\n",
    "    titular = [palabra for palabra in titular if not palabra in stopwords]\n",
    "    \n",
    "    ## Hasta acá Normalizamos, ahora a stemmizar\n",
    "          \n",
    "    # Aplicamos la funcion para buscar la raiz de las palabras\n",
    "    titular = [stemmer.stem(palabra) for palabra in titular]\n",
    "    # Por ultimo volvemos a unir el titular\n",
    "    titular = \" \".join(titular)\n",
    "    \n",
    "    # Vamos armando una lista con todos los titulares\n",
    "    titular_list.append(titular)"
   ]
  },
  {
   "cell_type": "markdown",
   "metadata": {
    "colab_type": "text",
    "id": "eLHJnoM659tE"
   },
   "source": [
    "d. Agregamos al dataset una columna llamado `titular_stem` que contenga los titulares stemmizados"
   ]
  },
  {
   "cell_type": "code",
   "execution_count": 78,
   "metadata": {
    "ExecuteTime": {
     "end_time": "2020-09-12T15:00:50.658701Z",
     "start_time": "2020-09-12T15:00:50.636701Z"
    },
    "colab": {},
    "colab_type": "code",
    "id": "8xn9iKuq59tE"
   },
   "outputs": [
    {
     "data": {
      "text/html": [
       "<div>\n",
       "<style scoped>\n",
       "    .dataframe tbody tr th:only-of-type {\n",
       "        vertical-align: middle;\n",
       "    }\n",
       "\n",
       "    .dataframe tbody tr th {\n",
       "        vertical-align: top;\n",
       "    }\n",
       "\n",
       "    .dataframe thead th {\n",
       "        text-align: right;\n",
       "    }\n",
       "</style>\n",
       "<table border=\"1\" class=\"dataframe\">\n",
       "  <thead>\n",
       "    <tr style=\"text-align: right;\">\n",
       "      <th></th>\n",
       "      <th>headline</th>\n",
       "      <th>is_sarcastic</th>\n",
       "      <th>titular_stem</th>\n",
       "    </tr>\n",
       "  </thead>\n",
       "  <tbody>\n",
       "    <tr>\n",
       "      <th>26704</th>\n",
       "      <td>american politics in moral free-fall</td>\n",
       "      <td>0</td>\n",
       "      <td>american polit moral free fall</td>\n",
       "    </tr>\n",
       "    <tr>\n",
       "      <th>26705</th>\n",
       "      <td>america's best 20 hikes</td>\n",
       "      <td>0</td>\n",
       "      <td>america best hike</td>\n",
       "    </tr>\n",
       "    <tr>\n",
       "      <th>26706</th>\n",
       "      <td>reparations and obama</td>\n",
       "      <td>0</td>\n",
       "      <td>repar obama</td>\n",
       "    </tr>\n",
       "    <tr>\n",
       "      <th>26707</th>\n",
       "      <td>israeli ban targeting boycott supporters raise...</td>\n",
       "      <td>0</td>\n",
       "      <td>isra target boycott support rais alarm abroad</td>\n",
       "    </tr>\n",
       "    <tr>\n",
       "      <th>26708</th>\n",
       "      <td>gourmet gifts for the foodie 2014</td>\n",
       "      <td>0</td>\n",
       "      <td>gourmet gift foodi</td>\n",
       "    </tr>\n",
       "  </tbody>\n",
       "</table>\n",
       "</div>"
      ],
      "text/plain": [
       "                                                headline  is_sarcastic  \\\n",
       "26704               american politics in moral free-fall             0   \n",
       "26705                            america's best 20 hikes             0   \n",
       "26706                              reparations and obama             0   \n",
       "26707  israeli ban targeting boycott supporters raise...             0   \n",
       "26708                  gourmet gifts for the foodie 2014             0   \n",
       "\n",
       "                                        titular_stem  \n",
       "26704                 american polit moral free fall  \n",
       "26705                              america best hike  \n",
       "26706                                    repar obama  \n",
       "26707  isra target boycott support rais alarm abroad  \n",
       "26708                             gourmet gift foodi  "
      ]
     },
     "execution_count": 78,
     "metadata": {},
     "output_type": "execute_result"
    }
   ],
   "source": [
    "dataset[\"titular_stem\"] = titular_list\n",
    "dataset.tail()"
   ]
  },
  {
   "cell_type": "markdown",
   "metadata": {
    "colab_type": "text",
    "id": "okkPm8sZ59tG"
   },
   "source": [
    "e. Armamos un nuevo dataset llamado `dataset_stem` que contenga solo las columnas `titular_stem` e `is_sarcastic`"
   ]
  },
  {
   "cell_type": "code",
   "execution_count": 79,
   "metadata": {
    "ExecuteTime": {
     "end_time": "2020-09-12T15:02:33.325010Z",
     "start_time": "2020-09-12T15:02:33.303998Z"
    },
    "colab": {},
    "colab_type": "code",
    "id": "ghZ8qUso59tG",
    "scrolled": true
   },
   "outputs": [
    {
     "data": {
      "text/html": [
       "<div>\n",
       "<style scoped>\n",
       "    .dataframe tbody tr th:only-of-type {\n",
       "        vertical-align: middle;\n",
       "    }\n",
       "\n",
       "    .dataframe tbody tr th {\n",
       "        vertical-align: top;\n",
       "    }\n",
       "\n",
       "    .dataframe thead th {\n",
       "        text-align: right;\n",
       "    }\n",
       "</style>\n",
       "<table border=\"1\" class=\"dataframe\">\n",
       "  <thead>\n",
       "    <tr style=\"text-align: right;\">\n",
       "      <th></th>\n",
       "      <th>titular_stem</th>\n",
       "      <th>is_sarcastic</th>\n",
       "    </tr>\n",
       "  </thead>\n",
       "  <tbody>\n",
       "    <tr>\n",
       "      <th>0</th>\n",
       "      <td>former versac store clerk sue secret black cod...</td>\n",
       "      <td>0</td>\n",
       "    </tr>\n",
       "    <tr>\n",
       "      <th>1</th>\n",
       "      <td>roseann reviv catch thorni polit mood better wors</td>\n",
       "      <td>0</td>\n",
       "    </tr>\n",
       "    <tr>\n",
       "      <th>2</th>\n",
       "      <td>start fear seri closest thing grandchild</td>\n",
       "      <td>1</td>\n",
       "    </tr>\n",
       "    <tr>\n",
       "      <th>3</th>\n",
       "      <td>boehner want wife listen come altern debt redu...</td>\n",
       "      <td>1</td>\n",
       "    </tr>\n",
       "    <tr>\n",
       "      <th>4</th>\n",
       "      <td>rowl wish snape happi birthday magic</td>\n",
       "      <td>0</td>\n",
       "    </tr>\n",
       "  </tbody>\n",
       "</table>\n",
       "</div>"
      ],
      "text/plain": [
       "                                        titular_stem  is_sarcastic\n",
       "0  former versac store clerk sue secret black cod...             0\n",
       "1  roseann reviv catch thorni polit mood better wors             0\n",
       "2           start fear seri closest thing grandchild             1\n",
       "3  boehner want wife listen come altern debt redu...             1\n",
       "4               rowl wish snape happi birthday magic             0"
      ]
     },
     "execution_count": 79,
     "metadata": {},
     "output_type": "execute_result"
    }
   ],
   "source": [
    "dataset_stem = pd.concat([dataset.titular_stem,dataset.is_sarcastic],axis=1)\n",
    "dataset_stem.dropna(axis=0,inplace=True)  # Por si quedaron titulares vacios\n",
    "dataset_stem.head()"
   ]
  },
  {
   "cell_type": "markdown",
   "metadata": {
    "colab_type": "text",
    "id": "Vlf4bIq559tI"
   },
   "source": [
    "## 5. Lemmatization\n",
    "\n",
    "Otra manera de llevar distintas palabras a un raíz común en la que comparten un significado es mediante el procezo de 'Lemmatizar' el texto. Es similar al 'Stemming' pero un poco más educado, ya que intenta realizar el proceso teniendo en cuenta cuál es el rol que la palabra cumple en el texto. Esto quiere decir que su accionar será distinto si la palabra a lemmantizar está actuando como verbo, sustantivo, etc. \n",
    "\n",
    "Para usar las funciones que ofrece `nltk` para lemmantizar, tendremos primero que descargar la libreria `Wordnet` que se encuentra en la solapa 'corpora' y las librerias 'maxent_treebank_pos_' y 'averaged_perceptron_tagger' que se encuentra en la solapa 'Models'. Para eso ejecute la siguiente celda:"
   ]
  },
  {
   "cell_type": "code",
   "execution_count": 80,
   "metadata": {
    "ExecuteTime": {
     "end_time": "2020-09-12T15:27:58.836827Z",
     "start_time": "2020-09-12T15:04:14.625356Z"
    },
    "colab": {},
    "colab_type": "code",
    "id": "e5nUXO5P59tJ"
   },
   "outputs": [
    {
     "name": "stdout",
     "output_type": "stream",
     "text": [
      "showing info https://raw.githubusercontent.com/nltk/nltk_data/gh-pages/index.xml\n"
     ]
    },
    {
     "data": {
      "text/plain": [
       "True"
      ]
     },
     "execution_count": 80,
     "metadata": {},
     "output_type": "execute_result"
    }
   ],
   "source": [
    "nltk.download()"
   ]
  },
  {
   "cell_type": "code",
   "execution_count": 81,
   "metadata": {
    "ExecuteTime": {
     "end_time": "2020-09-12T15:27:58.851827Z",
     "start_time": "2020-09-12T15:27:58.840826Z"
    },
    "colab": {},
    "colab_type": "code",
    "id": "B-El2T8s59tL"
   },
   "outputs": [],
   "source": [
    "# Importamos esta libreria que nos permite reemplzar caracteres\n",
    "import re\n",
    "\n",
    "# Importamos el lemmatizar de NLTK, y creamos el objeto\n",
    "from nltk.stem import WordNetLemmatizer\n",
    "wordnet_lemmatizer = WordNetLemmatizer()"
   ]
  },
  {
   "cell_type": "markdown",
   "metadata": {
    "colab_type": "text",
    "id": "MaUufluV59tM"
   },
   "source": [
    "Veamos cómo actúa el lemmatizer sobre una frase de ejemplo."
   ]
  },
  {
   "cell_type": "code",
   "execution_count": 82,
   "metadata": {
    "ExecuteTime": {
     "end_time": "2020-09-12T15:28:00.863981Z",
     "start_time": "2020-09-12T15:27:58.853828Z"
    },
    "colab": {},
    "colab_type": "code",
    "id": "dXz4ucYY59tN"
   },
   "outputs": [
    {
     "name": "stdout",
     "output_type": "stream",
     "text": [
      "Word                Lemma               \n",
      "he                  he                  \n",
      "was                 wa                  \n",
      "running             running             \n",
      "and                 and                 \n",
      "eating              eating              \n",
      "at                  at                  \n",
      "same                same                \n",
      "time                time                \n",
      "he                  he                  \n",
      "has                 ha                  \n",
      "bad                 bad                 \n",
      "habit               habit               \n",
      "of                  of                  \n",
      "swimming            swimming            \n",
      "after               after               \n",
      "playing             playing             \n",
      "long                long                \n",
      "hours               hour                \n",
      "in                  in                  \n",
      "the                 the                 \n",
      "sun                 sun                 \n"
     ]
    }
   ],
   "source": [
    "# Oracion que usaremos como ejemplo\n",
    "frase = \"He was running and eating at same time. He has bad habit of swimming after playing long hours in the Sun.\"\n",
    "\n",
    "# Hay que regularizar el texto. Dejar solo letra, pasar a minúsculas y tokenizar:\n",
    "\n",
    "# Sacamos todo lo que no sean letras\n",
    "frase = re.sub(\"[^a-zA-Z]\",\" \",str(frase))\n",
    "# Pasamos a minúsculas\n",
    "frase =  frase.lower()\n",
    "# Tokenizamos\n",
    "frase_tokens = nltk.word_tokenize(frase)\n",
    "\n",
    "# Veamos como cambians las palabras al lemmatizar\n",
    "print(\"{0:20}{1:20}\".format(\"Word\",\"Lemma\"))\n",
    "for palabra in frase_tokens:\n",
    "    print (\"{0:20}{1:20}\".format(palabra,wordnet_lemmatizer.lemmatize(palabra)))"
   ]
  },
  {
   "cell_type": "markdown",
   "metadata": {
    "colab_type": "text",
    "id": "x8YhrUSi59tP"
   },
   "source": [
    "¿Te sorprende lo que paso? No cambiaron casi nada (solo se fueron las \"s\" del final). El problema es que precisamos darle información extra al Lemmatizer, decirle qué rol está cumpliendo la palabra en la oración. Si se fijan en la documentación, esto se hace pasandole un argumento extra a la función llamado POS (Part Of Speech).\n",
    "\n",
    "Hay distintos metodos que intentan averiguar el rol que cumple una palabra en una oración. Nosotros vamos a utilizar uno que viene incorporado en NLTK llamado pos_tag."
   ]
  },
  {
   "cell_type": "code",
   "execution_count": 83,
   "metadata": {
    "ExecuteTime": {
     "end_time": "2020-09-12T15:28:47.864436Z",
     "start_time": "2020-09-12T15:28:47.695419Z"
    },
    "colab": {},
    "colab_type": "code",
    "id": "U5Cx4KJd59tQ"
   },
   "outputs": [
    {
     "name": "stdout",
     "output_type": "stream",
     "text": [
      "[('he', 'PRP'), ('was', 'VBD'), ('running', 'VBG'), ('and', 'CC'), ('eating', 'VBG'), ('at', 'IN'), ('same', 'JJ'), ('time', 'NN'), ('he', 'PRP'), ('has', 'VBZ'), ('bad', 'JJ'), ('habit', 'NN'), ('of', 'IN'), ('swimming', 'NN'), ('after', 'IN'), ('playing', 'VBG'), ('long', 'JJ'), ('hours', 'NNS'), ('in', 'IN'), ('the', 'DT'), ('sun', 'NN')]\n"
     ]
    }
   ],
   "source": [
    "print(nltk.pos_tag(frase_tokens))"
   ]
  },
  {
   "cell_type": "markdown",
   "metadata": {
    "colab_type": "text",
    "id": "DRlxX9YC59tS"
   },
   "source": [
    "Las etiquetas refieren al tipo de palabra. Vamos a definir una función para traducir estas etiquetas a los valores de POS que entiende `wordnet_lemmatizer`."
   ]
  },
  {
   "cell_type": "code",
   "execution_count": 84,
   "metadata": {
    "ExecuteTime": {
     "end_time": "2020-09-12T15:29:20.785086Z",
     "start_time": "2020-09-12T15:29:20.769086Z"
    },
    "colab": {},
    "colab_type": "code",
    "id": "rPf6wP-X59tS"
   },
   "outputs": [],
   "source": [
    "from nltk.corpus import wordnet\n",
    "\n",
    "def get_wordnet_pos(word):\n",
    "    \"\"\"Map POS tag to first character lemmatize() accepts\"\"\"\n",
    "    tag = nltk.pos_tag([word])[0][1][0].upper()\n",
    "    tag_dict = {\"J\": wordnet.ADJ,\n",
    "                \"N\": wordnet.NOUN,\n",
    "                \"V\": wordnet.VERB,\n",
    "                \"R\": wordnet.ADV}\n",
    "\n",
    "    return tag_dict.get(tag, wordnet.NOUN)"
   ]
  },
  {
   "cell_type": "markdown",
   "metadata": {
    "colab_type": "text",
    "id": "S5e1wKcp59tV"
   },
   "source": [
    "Veamos finalmente como funciona en nuestro ejemplo."
   ]
  },
  {
   "cell_type": "code",
   "execution_count": 85,
   "metadata": {
    "ExecuteTime": {
     "end_time": "2020-09-12T15:29:27.945041Z",
     "start_time": "2020-09-12T15:29:27.901042Z"
    },
    "colab": {},
    "colab_type": "code",
    "id": "2P6mf2h959tV"
   },
   "outputs": [
    {
     "name": "stdout",
     "output_type": "stream",
     "text": [
      "Palabra:            Tipo:               Lemma:              \n",
      "he                  n                   he                  \n",
      "was                 v                   be                  \n",
      "running             v                   run                 \n",
      "and                 n                   and                 \n",
      "eating              v                   eat                 \n",
      "at                  n                   at                  \n",
      "same                a                   same                \n",
      "time                n                   time                \n",
      "he                  n                   he                  \n",
      "has                 v                   have                \n",
      "bad                 a                   bad                 \n",
      "habit               n                   habit               \n",
      "of                  n                   of                  \n",
      "swimming            v                   swim                \n",
      "after               n                   after               \n",
      "playing             v                   play                \n",
      "long                r                   long                \n",
      "hours               n                   hour                \n",
      "in                  n                   in                  \n",
      "the                 n                   the                 \n",
      "sun                 n                   sun                 \n"
     ]
    }
   ],
   "source": [
    "frase_lemma = [wordnet_lemmatizer.lemmatize(w, get_wordnet_pos(w)) for w in nltk.word_tokenize(frase)]\n",
    "tipo_palabra = [get_wordnet_pos(w) for w in nltk.word_tokenize(frase)]\n",
    "\n",
    "# Veamos como cambiaron las palabras\n",
    "print(\"{0:20}{1:20}{2:20}\".format(\"Palabra:\",\"Tipo:\",\"Lemma:\"))\n",
    "for i in range(len(frase_tokens)):\n",
    "    print (\"{0:20}{1:20}{2:20}\".format(frase_tokens[i],tipo_palabra[i],frase_lemma[i]))"
   ]
  },
  {
   "cell_type": "markdown",
   "metadata": {
    "colab_type": "text",
    "id": "sSHH0y-x59tX"
   },
   "source": [
    "a. Ahora te toca aplicar todo esto a nuestro dataset. Vamos a volver a importarlo y hacer un procedimiento análogo al que hicimos para la parte de Stemming."
   ]
  },
  {
   "cell_type": "code",
   "execution_count": 87,
   "metadata": {
    "ExecuteTime": {
     "end_time": "2020-09-12T15:31:44.027796Z",
     "start_time": "2020-09-12T15:31:43.882402Z"
    },
    "colab": {},
    "colab_type": "code",
    "id": "V82-w8ru59tX"
   },
   "outputs": [],
   "source": [
    "# Importamos el lemmatizar de NLTK, y creamos el objeto\n",
    "from nltk.stem import WordNetLemmatizer\n",
    "wordnet_lemmatizer = WordNetLemmatizer()\n",
    "\n",
    "# Importamos esta libreria que nos permite reemplzar caracteres\n",
    "import re\n",
    "\n",
    "dataset = pd.read_json('Sarcasm_Headlines_Dataset.json', lines=True)\n",
    "dataset = pd.concat([dataset.headline,dataset.is_sarcastic],axis=1)\n",
    "dataset.dropna(axis=0,inplace=True)\n",
    "\n",
    "# Traemos nuevamente las stopwords\n",
    "stopwords = nltk.corpus.stopwords.words('english')"
   ]
  },
  {
   "cell_type": "code",
   "execution_count": 88,
   "metadata": {
    "ExecuteTime": {
     "end_time": "2020-09-12T15:36:05.344809Z",
     "start_time": "2020-09-12T15:33:29.555441Z"
    },
    "colab": {},
    "colab_type": "code",
    "id": "PqXft_4v59tb"
   },
   "outputs": [],
   "source": [
    "titular_list=[]\n",
    "for titular in dataset.headline:\n",
    "    # Vamos a reemplzar los caracteres que no sean leras por espacios\n",
    "    titular =re.sub(\"[^a-zA-Z]\",\" \",str(titular))\n",
    "    # Pasamos todo a minúsculas\n",
    "    titular = titular.lower()\n",
    "    # Tokenizamos para separar las palabras\n",
    "    titular = nltk.word_tokenize(titular)\n",
    "    \n",
    "    # Aplicamos el Lemmatizer (Esto puede tardar un ratito)\n",
    "    frase_lemma = [wordnet_lemmatizer.lemmatize(w, get_wordnet_pos(w)) for w in titular]\n",
    "    \n",
    "    \n",
    "    # Eliminamos las palabras d emenos de 3 letras\n",
    "    titular =  [palabra for palabra in titular if len(palabra)>3]\n",
    "    # Sacamos las Stopwords\n",
    "    titular = [palabra for palabra in titular if not palabra in stopwords]\n",
    "    \n",
    "    # Por ultimo volvemos a unir el titular\n",
    "    titular=\" \".join(titular)\n",
    "    #dataset[\"titular_normalizado\"] = titular_list\n",
    "    titular_list.append(titular)"
   ]
  },
  {
   "cell_type": "code",
   "execution_count": 89,
   "metadata": {
    "ExecuteTime": {
     "end_time": "2020-09-12T15:36:15.911282Z",
     "start_time": "2020-09-12T15:36:15.890283Z"
    },
    "colab": {},
    "colab_type": "code",
    "id": "d_0hZoq359td"
   },
   "outputs": [
    {
     "data": {
      "text/html": [
       "<div>\n",
       "<style scoped>\n",
       "    .dataframe tbody tr th:only-of-type {\n",
       "        vertical-align: middle;\n",
       "    }\n",
       "\n",
       "    .dataframe tbody tr th {\n",
       "        vertical-align: top;\n",
       "    }\n",
       "\n",
       "    .dataframe thead th {\n",
       "        text-align: right;\n",
       "    }\n",
       "</style>\n",
       "<table border=\"1\" class=\"dataframe\">\n",
       "  <thead>\n",
       "    <tr style=\"text-align: right;\">\n",
       "      <th></th>\n",
       "      <th>headline</th>\n",
       "      <th>is_sarcastic</th>\n",
       "      <th>titular_lemm</th>\n",
       "    </tr>\n",
       "  </thead>\n",
       "  <tbody>\n",
       "    <tr>\n",
       "      <th>26704</th>\n",
       "      <td>american politics in moral free-fall</td>\n",
       "      <td>0</td>\n",
       "      <td>american politics moral free fall</td>\n",
       "    </tr>\n",
       "    <tr>\n",
       "      <th>26705</th>\n",
       "      <td>america's best 20 hikes</td>\n",
       "      <td>0</td>\n",
       "      <td>america best hikes</td>\n",
       "    </tr>\n",
       "    <tr>\n",
       "      <th>26706</th>\n",
       "      <td>reparations and obama</td>\n",
       "      <td>0</td>\n",
       "      <td>reparations obama</td>\n",
       "    </tr>\n",
       "    <tr>\n",
       "      <th>26707</th>\n",
       "      <td>israeli ban targeting boycott supporters raise...</td>\n",
       "      <td>0</td>\n",
       "      <td>israeli targeting boycott supporters raises al...</td>\n",
       "    </tr>\n",
       "    <tr>\n",
       "      <th>26708</th>\n",
       "      <td>gourmet gifts for the foodie 2014</td>\n",
       "      <td>0</td>\n",
       "      <td>gourmet gifts foodie</td>\n",
       "    </tr>\n",
       "  </tbody>\n",
       "</table>\n",
       "</div>"
      ],
      "text/plain": [
       "                                                headline  is_sarcastic  \\\n",
       "26704               american politics in moral free-fall             0   \n",
       "26705                            america's best 20 hikes             0   \n",
       "26706                              reparations and obama             0   \n",
       "26707  israeli ban targeting boycott supporters raise...             0   \n",
       "26708                  gourmet gifts for the foodie 2014             0   \n",
       "\n",
       "                                            titular_lemm  \n",
       "26704                  american politics moral free fall  \n",
       "26705                                 america best hikes  \n",
       "26706                                  reparations obama  \n",
       "26707  israeli targeting boycott supporters raises al...  \n",
       "26708                               gourmet gifts foodie  "
      ]
     },
     "execution_count": 89,
     "metadata": {},
     "output_type": "execute_result"
    }
   ],
   "source": [
    "dataset[\"titular_lemm\"] = titular_list\n",
    "dataset.tail()"
   ]
  },
  {
   "cell_type": "markdown",
   "metadata": {
    "colab_type": "text",
    "id": "KU7pV8Ss59tf"
   },
   "source": [
    "b. Por último nos armamos un nuevo datasate llamado `dataset_lem` que tenga solo las columnas `titular_lemm` y `is_sarcastic`."
   ]
  },
  {
   "cell_type": "code",
   "execution_count": 90,
   "metadata": {
    "ExecuteTime": {
     "end_time": "2020-09-12T15:36:23.036216Z",
     "start_time": "2020-09-12T15:36:23.007218Z"
    },
    "colab": {},
    "colab_type": "code",
    "id": "Rbnv2nxR59ti"
   },
   "outputs": [
    {
     "data": {
      "text/html": [
       "<div>\n",
       "<style scoped>\n",
       "    .dataframe tbody tr th:only-of-type {\n",
       "        vertical-align: middle;\n",
       "    }\n",
       "\n",
       "    .dataframe tbody tr th {\n",
       "        vertical-align: top;\n",
       "    }\n",
       "\n",
       "    .dataframe thead th {\n",
       "        text-align: right;\n",
       "    }\n",
       "</style>\n",
       "<table border=\"1\" class=\"dataframe\">\n",
       "  <thead>\n",
       "    <tr style=\"text-align: right;\">\n",
       "      <th></th>\n",
       "      <th>titular_lemm</th>\n",
       "      <th>is_sarcastic</th>\n",
       "    </tr>\n",
       "  </thead>\n",
       "  <tbody>\n",
       "    <tr>\n",
       "      <th>0</th>\n",
       "      <td>former versace store clerk sues secret black c...</td>\n",
       "      <td>0</td>\n",
       "    </tr>\n",
       "    <tr>\n",
       "      <th>1</th>\n",
       "      <td>roseanne revival catches thorny political mood...</td>\n",
       "      <td>0</td>\n",
       "    </tr>\n",
       "    <tr>\n",
       "      <th>2</th>\n",
       "      <td>starting fear series closest thing grandchild</td>\n",
       "      <td>1</td>\n",
       "    </tr>\n",
       "    <tr>\n",
       "      <th>3</th>\n",
       "      <td>boehner wants wife listen come alternative deb...</td>\n",
       "      <td>1</td>\n",
       "    </tr>\n",
       "    <tr>\n",
       "      <th>4</th>\n",
       "      <td>rowling wishes snape happy birthday magical</td>\n",
       "      <td>0</td>\n",
       "    </tr>\n",
       "  </tbody>\n",
       "</table>\n",
       "</div>"
      ],
      "text/plain": [
       "                                        titular_lemm  is_sarcastic\n",
       "0  former versace store clerk sues secret black c...             0\n",
       "1  roseanne revival catches thorny political mood...             0\n",
       "2      starting fear series closest thing grandchild             1\n",
       "3  boehner wants wife listen come alternative deb...             1\n",
       "4        rowling wishes snape happy birthday magical             0"
      ]
     },
     "execution_count": 90,
     "metadata": {},
     "output_type": "execute_result"
    }
   ],
   "source": [
    "dataset_lemm =  pd.concat([dataset.titular_lemm,dataset.is_sarcastic],axis=1)\n",
    "dataset_lemm.dropna(axis=0,inplace=True)  # Por si quedaron titulares vacios\n",
    "dataset_lemm.head()"
   ]
  },
  {
   "cell_type": "code",
   "execution_count": 91,
   "metadata": {
    "ExecuteTime": {
     "end_time": "2020-09-12T15:37:15.293450Z",
     "start_time": "2020-09-12T15:37:15.283451Z"
    }
   },
   "outputs": [
    {
     "data": {
      "text/html": [
       "<div>\n",
       "<style scoped>\n",
       "    .dataframe tbody tr th:only-of-type {\n",
       "        vertical-align: middle;\n",
       "    }\n",
       "\n",
       "    .dataframe tbody tr th {\n",
       "        vertical-align: top;\n",
       "    }\n",
       "\n",
       "    .dataframe thead th {\n",
       "        text-align: right;\n",
       "    }\n",
       "</style>\n",
       "<table border=\"1\" class=\"dataframe\">\n",
       "  <thead>\n",
       "    <tr style=\"text-align: right;\">\n",
       "      <th></th>\n",
       "      <th>titular_stem</th>\n",
       "      <th>is_sarcastic</th>\n",
       "    </tr>\n",
       "  </thead>\n",
       "  <tbody>\n",
       "    <tr>\n",
       "      <th>0</th>\n",
       "      <td>former versac store clerk sue secret black cod...</td>\n",
       "      <td>0</td>\n",
       "    </tr>\n",
       "    <tr>\n",
       "      <th>1</th>\n",
       "      <td>roseann reviv catch thorni polit mood better wors</td>\n",
       "      <td>0</td>\n",
       "    </tr>\n",
       "    <tr>\n",
       "      <th>2</th>\n",
       "      <td>start fear seri closest thing grandchild</td>\n",
       "      <td>1</td>\n",
       "    </tr>\n",
       "    <tr>\n",
       "      <th>3</th>\n",
       "      <td>boehner want wife listen come altern debt redu...</td>\n",
       "      <td>1</td>\n",
       "    </tr>\n",
       "    <tr>\n",
       "      <th>4</th>\n",
       "      <td>rowl wish snape happi birthday magic</td>\n",
       "      <td>0</td>\n",
       "    </tr>\n",
       "  </tbody>\n",
       "</table>\n",
       "</div>"
      ],
      "text/plain": [
       "                                        titular_stem  is_sarcastic\n",
       "0  former versac store clerk sue secret black cod...             0\n",
       "1  roseann reviv catch thorni polit mood better wors             0\n",
       "2           start fear seri closest thing grandchild             1\n",
       "3  boehner want wife listen come altern debt redu...             1\n",
       "4               rowl wish snape happi birthday magic             0"
      ]
     },
     "execution_count": 91,
     "metadata": {},
     "output_type": "execute_result"
    }
   ],
   "source": [
    "dataset_stem.head()"
   ]
  },
  {
   "cell_type": "markdown",
   "metadata": {
    "colab_type": "text",
    "id": "1qR-e_QF59tk"
   },
   "source": [
    "**Para mirar**: toma algunos titulares al azar y compara su versión `dataset_lemm` y en `dataset_stem`. Explica.\n",
    "\n",
    "## 6. Vectorizar\n",
    "\n",
    "Hasta ahora, tenemos un grupo de palabras por cada titular (bag of words), ya sea *lemmatizado* o *stemmizado*. ¿Te parece que esto servirá para entrenar modelos? La idea ahora es representar esta lista de palabras como un vector. Para esto vamos a utilizar la función `CountVectorizer` de Scikit-Learn. Esta función nos permite representar cada título por un vector con un `1` en las palabras que contiene y un `0` en las que no. Además, vamos a trabajar únicamente con las palabras que aparecen más veces en el texto, ya que las que aparecen una única vez o pocas veces no nos van a brindar información que se pueda generalizar.\n",
    "\n",
    "a. Tomamos la lista de palabras y el vector que nos dice si es o no sarcástico el título"
   ]
  },
  {
   "cell_type": "code",
   "execution_count": 92,
   "metadata": {
    "ExecuteTime": {
     "end_time": "2020-09-12T15:40:06.641577Z",
     "start_time": "2020-09-12T15:40:06.629580Z"
    },
    "colab": {},
    "colab_type": "code",
    "id": "PimCAvhZ59tl"
   },
   "outputs": [],
   "source": [
    "# Tomamso la lista de palabras y el vector que nos dice si es o no sarcastico el titulo\n",
    "list_titulos =list(dataset_lemm['titular_lemm'].values)\n",
    "is_sarc = dataset_lemm['is_sarcastic'].values\n",
    "\n",
    "## Para probar con Stemmizer:\n",
    "#list_titulos = list(dataset_stem'titular_stem'].values)\n",
    "#is_sarc = dataset_stem['is_sarcastic'].values"
   ]
  },
  {
   "cell_type": "markdown",
   "metadata": {
    "colab_type": "text",
    "id": "Uc9GgHU459tn"
   },
   "source": [
    "b. Preparamos el conversor de bag of words a vectores que traemos de sklearn. `CountVectorizer` posee varias funcionalidades que pueden determinarse a partir de parámetros. Les recomendamos fuertemente leer su documentación."
   ]
  },
  {
   "cell_type": "code",
   "execution_count": 93,
   "metadata": {
    "ExecuteTime": {
     "end_time": "2020-09-12T15:41:09.946161Z",
     "start_time": "2020-09-12T15:41:09.934161Z"
    },
    "colab": {},
    "colab_type": "code",
    "id": "Uk8UIl0e59to"
   },
   "outputs": [],
   "source": [
    "from sklearn.feature_extraction.text import CountVectorizer\n",
    "\n",
    "# Usaremos solo las 1000 palabras con mas frecuencia en todo el corpus para generar los vectores\n",
    "max_features=1000\n",
    "\n",
    "# Es decir que cada instancia tendrá 1000 features\n",
    "cou_vec=CountVectorizer(max_features=max_features) # stop_words=\"english\" , ngram_range=(1, 2)"
   ]
  },
  {
   "cell_type": "markdown",
   "metadata": {
    "colab_type": "text",
    "id": "7bAHHK7Z59tr"
   },
   "source": [
    "Notemos que desde `CountVectorizer` se pueden quitar las stopwords (algo que ya hicimos con `nltk`) e incluir los n_gramas automáticamente.\n",
    "\n",
    "c. Ahora sí, vamos generarnos los vectores para cada título a partir del corpus total."
   ]
  },
  {
   "cell_type": "code",
   "execution_count": 94,
   "metadata": {
    "ExecuteTime": {
     "end_time": "2020-09-12T15:43:30.397460Z",
     "start_time": "2020-09-12T15:43:30.089428Z"
    },
    "colab": {},
    "colab_type": "code",
    "id": "Is3nHMu159tr"
   },
   "outputs": [
    {
     "name": "stdout",
     "output_type": "stream",
     "text": [
      "50 palabras mas usadas:  ['abortion', 'abuse', 'accidentally', 'according', 'accused', 'across', 'action', 'activists', 'actor', 'actually', 'address', 'adds', 'administration', 'admits', 'adorable', 'advice', 'afghanistan', 'ahead', 'airport', 'album', 'allegations', 'almost', 'already', 'also', 'always', 'amazing', 'amazon', 'america', 'american', 'americans', 'amid', 'among', 'anniversary', 'announce', 'announces', 'another', 'anti', 'anyone', 'anything', 'apartment', 'apologizes', 'apparently', 'apple', 'archives', 'area', 'around', 'arrested', 'artist', 'asked', 'asking']\n"
     ]
    }
   ],
   "source": [
    "matriz_titulos = cou_vec.fit_transform(list_titulos)\n",
    "\n",
    "# Tomamos las palabras\n",
    "all_words = cou_vec.get_feature_names()\n",
    "\n",
    "# Vizualizamos las 50 palabras mas usadas\n",
    "print(\"50 palabras mas usadas: \",all_words[0:50])"
   ]
  },
  {
   "cell_type": "markdown",
   "metadata": {
    "colab_type": "text",
    "id": "b7V8401y59tu"
   },
   "source": [
    "## 7. Modelar\n",
    "\n",
    "Ahora sí estamos listos para usar todo nuestro conocimiento de modelos en este set de datos. Tengamos en cuenta que, dependiendo el número de palabras (features) que hayamos elegido, los modelos pueden tardar un rato en entrenarse.\n",
    "\n",
    "a. Primero, como siempre, separamos en test y train."
   ]
  },
  {
   "cell_type": "code",
   "execution_count": 95,
   "metadata": {
    "ExecuteTime": {
     "end_time": "2020-09-12T15:44:04.735512Z",
     "start_time": "2020-09-12T15:44:04.513995Z"
    },
    "colab": {},
    "colab_type": "code",
    "id": "ofw9iQjz59tu"
   },
   "outputs": [],
   "source": [
    "x = matriz_titulos.toarray()\n",
    "y = is_sarc\n",
    "\n",
    "from sklearn.model_selection import train_test_split\n",
    "xtrain, xtest, ytrain, ytest = train_test_split(x,y,test_size=0.2,random_state=42,stratify=y)"
   ]
  },
  {
   "cell_type": "markdown",
   "metadata": {
    "colab_type": "text",
    "id": "OpX_5tjA59ty"
   },
   "source": [
    "Tambien definimos una función que nos permite plotear los resultados en una matriz de confusión."
   ]
  },
  {
   "cell_type": "code",
   "execution_count": 96,
   "metadata": {
    "ExecuteTime": {
     "end_time": "2020-09-12T15:44:10.164651Z",
     "start_time": "2020-09-12T15:44:10.146650Z"
    },
    "colab": {},
    "colab_type": "code",
    "id": "K8euvkdR59ty"
   },
   "outputs": [],
   "source": [
    "from sklearn.metrics import confusion_matrix\n",
    "import seaborn as sns\n",
    "\n",
    "def confusion(ytest,y_pred):\n",
    "    names=[\"No Sarcastico\",\"Sarcastico\"]\n",
    "    cm=confusion_matrix(ytest,y_pred)\n",
    "    f,ax=plt.subplots(figsize=(5,5))\n",
    "    sns.heatmap(cm,annot=True,linewidth=.5,linecolor=\"r\",fmt=\".0f\",ax=ax)\n",
    "    plt.xlabel(\"y_pred\")\n",
    "    plt.ylabel(\"y_true\")\n",
    "    ax.set_xticklabels(names)\n",
    "    ax.set_yticklabels(names)\n",
    "    plt.show()\n",
    "\n",
    "    return"
   ]
  },
  {
   "cell_type": "markdown",
   "metadata": {
    "colab_type": "text",
    "id": "XNa5EV_C59t0"
   },
   "source": [
    "### Naive Bayes\n",
    "a. Empecemos por un simple Naive Bayes para tener un benchmark de referencia para el accuracy."
   ]
  },
  {
   "cell_type": "code",
   "execution_count": 97,
   "metadata": {
    "ExecuteTime": {
     "end_time": "2020-09-12T15:45:05.036328Z",
     "start_time": "2020-09-12T15:45:04.450283Z"
    },
    "colab": {},
    "colab_type": "code",
    "id": "Hn0XlBt859t0"
   },
   "outputs": [
    {
     "name": "stdout",
     "output_type": "stream",
     "text": [
      "acc :  0.6800823661549982\n"
     ]
    }
   ],
   "source": [
    "from sklearn.naive_bayes import GaussianNB\n",
    "nb = GaussianNB()\n",
    "nb.fit(xtrain,ytrain)\n",
    "\n",
    "print(\"acc : \", nb.score(xtest,ytest))"
   ]
  },
  {
   "cell_type": "markdown",
   "metadata": {
    "colab_type": "text",
    "id": "8cGZwJSf59t2"
   },
   "source": [
    "b. Veamos cómo queda graficada la matriz de confusión:"
   ]
  },
  {
   "cell_type": "code",
   "execution_count": 98,
   "metadata": {
    "ExecuteTime": {
     "end_time": "2020-09-12T16:59:14.099558Z",
     "start_time": "2020-09-12T16:59:13.222094Z"
    },
    "colab": {},
    "colab_type": "code",
    "id": "CyNDfO1P59t2"
   },
   "outputs": [
    {
     "data": {
      "image/png": "[encoded data removed]",
      "text/plain": [
       "<Figure size 360x360 with 2 Axes>"
      ]
     },
     "metadata": {},
     "output_type": "display_data"
    }
   ],
   "source": [
    "y_pred = nb.predict(xtest)\n",
    "confusion(ytest,y_pred)"
   ]
  },
  {
   "cell_type": "markdown",
   "metadata": {
    "colab_type": "text",
    "id": "l2Zbv7iz59t6"
   },
   "source": [
    "### Random Forest\n",
    "a. Veamos cómo funciona un random forest para predecir el sarcasmo de una nota en base a su titular."
   ]
  },
  {
   "cell_type": "code",
   "execution_count": 103,
   "metadata": {
    "ExecuteTime": {
     "end_time": "2020-09-12T17:47:31.910189Z",
     "start_time": "2020-09-12T17:46:18.275197Z"
    },
    "colab": {},
    "colab_type": "code",
    "id": "5KldE_za59t6"
   },
   "outputs": [
    {
     "name": "stdout",
     "output_type": "stream",
     "text": [
      "acc :  0.7134032197678772\n"
     ]
    }
   ],
   "source": [
    "from sklearn.ensemble import RandomForestClassifier\n",
    "from sklearn.metrics import confusion_matrix\n",
    "\n",
    "rf = RandomForestClassifier(n_estimators = 50, random_state=42)\n",
    "rf.fit(xtrain,ytrain)\n",
    "\n",
    "print(\"acc : \", rf.score(xtest,ytest))"
   ]
  },
  {
   "cell_type": "markdown",
   "metadata": {
    "colab_type": "text",
    "id": "x4QYCvnz59t8"
   },
   "source": [
    "b. Grafiquen su matriz de confusión:"
   ]
  },
  {
   "cell_type": "code",
   "execution_count": 104,
   "metadata": {
    "ExecuteTime": {
     "end_time": "2020-09-12T17:51:27.008417Z",
     "start_time": "2020-09-12T17:51:26.344662Z"
    },
    "colab": {},
    "colab_type": "code",
    "id": "AJvbjAwn59t8"
   },
   "outputs": [
    {
     "data": {
      "image/png": "[encoded data removed]",
      "text/plain": [
       "<Figure size 360x360 with 2 Axes>"
      ]
     },
     "metadata": {},
     "output_type": "display_data"
    }
   ],
   "source": [
    "y_pred = rf.predict(xtest)\n",
    "confusion(ytest,y_pred)"
   ]
  },
  {
   "cell_type": "markdown",
   "metadata": {
    "colab_type": "text",
    "id": "mvAIbado59t-"
   },
   "source": [
    "c. Habíamos dicho que algo muy bueno de Random Forest era poder preguntarle por la importancia de los features que uso para clasificar. Veamos en este caso cuales son las palabras que mayormente determinan el sarcasmo de una nota para este clasificador."
   ]
  },
  {
   "cell_type": "code",
   "execution_count": 105,
   "metadata": {
    "ExecuteTime": {
     "end_time": "2020-09-12T17:51:30.879001Z",
     "start_time": "2020-09-12T17:51:30.449978Z"
    },
    "colab": {},
    "colab_type": "code",
    "id": "8lL0W1ad59t-"
   },
   "outputs": [
    {
     "data": {
      "image/png": "[encoded data removed]",
      "text/plain": [
       "<Figure size 1080x576 with 1 Axes>"
      ]
     },
     "metadata": {},
     "output_type": "display_data"
    }
   ],
   "source": [
    "# Le preguntamos la importancia de cada feature (cada palabra)\n",
    "importances = rf.feature_importances_\n",
    "# Tomamos la lista de palabras\n",
    "all_words = cou_vec.get_feature_names()\n",
    "columns = all_words\n",
    "\n",
    "# Ordenamos por importnacia y tomamos las 20 primeras\n",
    "indices = np.argsort(importances)[::-1]\n",
    "indices = indices[:20]\n",
    "selected_columns = [columns[i] for i in indices]\n",
    "selected_importances = importances[indices]\n",
    "\n",
    "# Por ultimo graficamos\n",
    "plt.figure(figsize = (15,8))\n",
    "sns.barplot(selected_columns, selected_importances)\n",
    "plt.show()"
   ]
  },
  {
   "cell_type": "markdown",
   "metadata": {
    "colab_type": "text",
    "id": "GNdZ4i2E59uC"
   },
   "source": [
    "### SVM\n",
    "Por último vamos a utilizar uno de los modelos mas prometedores para este tipo de datos donde el numero de features es comparable al número de instancias: SVM."
   ]
  },
  {
   "cell_type": "markdown",
   "metadata": {
    "colab_type": "text",
    "id": "orFiSlq959uC"
   },
   "source": [
    "a. Entrene un modelo de SVM Lineal y calcule su accuracy para C = 1."
   ]
  },
  {
   "cell_type": "code",
   "execution_count": 106,
   "metadata": {
    "ExecuteTime": {
     "end_time": "2020-09-12T17:51:36.881710Z",
     "start_time": "2020-09-12T17:51:36.317963Z"
    },
    "colab": {},
    "colab_type": "code",
    "id": "-_s-nHYX59uC"
   },
   "outputs": [
    {
     "name": "stdout",
     "output_type": "stream",
     "text": [
      "acc :  0.729127667540247\n"
     ]
    }
   ],
   "source": [
    "# Notar que en vez de utilizar SVC, vamos a usar LinearSVC. \n",
    "# Para el Kernel Lineal, esta función es MUCHO mas rapida que la tradicional SVC.\n",
    "from sklearn.svm import LinearSVC\n",
    "\n",
    "svc = LinearSVC(C = 1)\n",
    "svc.fit(xtrain,ytrain)\n",
    "\n",
    "print(\"acc : \", svc.score(xtest,ytest))"
   ]
  },
  {
   "cell_type": "markdown",
   "metadata": {
    "colab_type": "text",
    "id": "oJPxY63U59uE"
   },
   "source": [
    "b. Grafiquen su matrz de confusión:"
   ]
  },
  {
   "cell_type": "code",
   "execution_count": 107,
   "metadata": {
    "ExecuteTime": {
     "end_time": "2020-09-12T17:52:26.502766Z",
     "start_time": "2020-09-12T17:52:26.291480Z"
    },
    "colab": {},
    "colab_type": "code",
    "id": "yFkuSCgn59uF"
   },
   "outputs": [
    {
     "data": {
      "image/png": "[encoded data removed]",
      "text/plain": [
       "<Figure size 360x360 with 2 Axes>"
      ]
     },
     "metadata": {},
     "output_type": "display_data"
    }
   ],
   "source": [
    "y_pred = svc.predict(xtest)\n",
    "confusion(ytest,y_pred)"
   ]
  },
  {
   "cell_type": "markdown",
   "metadata": {
    "colab_type": "text",
    "id": "480BiFnC59uH"
   },
   "source": [
    "## 7. Explora las posibilidades\n",
    "\n",
    "Si llegaste hasta acá, ya cuentas con todas las herramientas para poder explorar qué sucede con el poder predictivo cuando van cambiando la manera en que procesas y vectorizas el texto. Algunas sugerencias para explorar son las siguientes:\n",
    "\n",
    "1. Prueba con Stemmizar en vez de lemmantizar\n",
    "1. Cambia el numero de features que esta tomando.\n",
    "1. Prueba con TF-IDF.\n",
    "1. Incluye los 2-gramas. ¿Qué era eso?\n",
    "1. Conserve los signos de exclamación y pregunta del texto.\n"
   ]
  },
  {
   "cell_type": "code",
   "execution_count": null,
   "metadata": {
    "colab": {},
    "colab_type": "code",
    "id": "As-tMJfr59uH"
   },
   "outputs": [],
   "source": []
  }
 ],
 "metadata": {
  "colab": {
   "name": "DS_Bitácora_39_y_40_NLP.ipynb",
   "provenance": []
  },
  "kernelspec": {
   "display_name": "Python 3",
   "language": "python",
   "name": "python3"
  },
  "language_info": {
   "codemirror_mode": {
    "name": "ipython",
    "version": 3
   },
   "file_extension": ".py",
   "mimetype": "text/x-python",
   "name": "python",
   "nbconvert_exporter": "python",
   "pygments_lexer": "ipython3",
   "version": "3.7.6"
  },
  "toc": {
   "base_numbering": 1,
   "nav_menu": {},
   "number_sections": true,
   "sideBar": true,
   "skip_h1_title": false,
   "title_cell": "Table of Contents",
   "title_sidebar": "Contents",
   "toc_cell": false,
   "toc_position": {},
   "toc_section_display": true,
   "toc_window_display": true
  }
 },
 "nbformat": 4,
 "nbformat_minor": 1
}